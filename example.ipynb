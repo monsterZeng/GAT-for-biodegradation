{
 "cells": [
  {
   "cell_type": "code",
   "execution_count": 31,
   "metadata": {},
   "outputs": [],
   "source": [
    "import dgl\n",
    "from dgllife.utils import smiles_to_bigraph, CanonicalAtomFeaturizer, CanonicalBondFeaturizer\n",
    "from dgllife.data import MoleculeCSVDataset\n",
    "from torch.utils.data import DataLoader\n",
    "import torch\n",
    "import torch.nn.functional as F\n",
    "import dgllife\n",
    "from model import MyGAT\n",
    "from rdkit import Chem\n",
    "from argparse import Namespace\n"
   ]
  },
  {
   "cell_type": "code",
   "execution_count": 61,
   "metadata": {},
   "outputs": [],
   "source": [
    "args = Namespace(\n",
    "    device = 'cpu',\n",
    "    model_file   = './models/3/GAT.pt',\n",
    "    example_file = './dataset/example.csv',\n",
    "    result_file    = \"./dataset/result.csv\",\n",
    "    # -----------------------model hyperparameters------------------------\n",
    "    in_feats =  74,\n",
    "    n_classes = 2,\n",
    "    hidden_feats = [14] * 4, \n",
    "    activations  = [F.celu] * 4,\n",
    "    residuals    = [True] * 4,\n",
    "    dropouts = [0.2] * 4,\n",
    "    num_heads = [4] * 4,\n",
    "    feat_drops = [0.2] * 4,\n",
    "    attn_drops = [0.2] * 4,\n",
    "    agg_modes = ['flatten'] * 4,\n",
    ")\n"
   ]
  },
  {
   "cell_type": "code",
   "execution_count": 19,
   "metadata": {},
   "outputs": [],
   "source": [
    "def smile_to_graph(smile, node_featurizer, edge_featurizer):\n",
    "    graph = smiles_to_bigraph(smile, \n",
    "                             node_featurizer = CanonicalAtomFeaturizer(atom_data_field='h'),\n",
    "                             edge_featurizer = CanonicalBondFeaturizer(bond_data_field='e')\n",
    "    )\n",
    "    graph = dgl.remove_self_loop(graph)\n",
    "    graph = dgl.add_self_loop(graph)\n",
    "    return graph"
   ]
  },
  {
   "cell_type": "code",
   "execution_count": 20,
   "metadata": {},
   "outputs": [],
   "source": [
    "def fit(args, model, graphs):\n",
    "    graphs = graphs.to(args.device)\n",
    "    node_feats = graphs.ndata.pop('h').to(args.device)\n",
    "    return model(graphs, node_feats)"
   ]
  },
  {
   "cell_type": "markdown",
   "metadata": {},
   "source": [
    "## 1. If you just want to predict a few of chemicls."
   ]
  },
  {
   "cell_type": "code",
   "execution_count": 21,
   "metadata": {},
   "outputs": [],
   "source": [
    "## step 1. translate smiles to graphs\n",
    "smiles =  ['CC1CCCCC1OC(C)=O', 'CCC(O)CO', 'CCCCCCCC\\C=C/CCCCCCCC(O)=O', \n",
    "           'COc1cc(ccc1N)[N+]([O-])=O', 'CCCC[Sn](=O)CCCC','CCCC[Sn](=O)CCCC']\n",
    "\n",
    "graphs  = [smile_to_graph(smile, None, None) for smile in smiles]\n",
    "bg = dgl.batch(graphs)  "
   ]
  },
  {
   "cell_type": "code",
   "execution_count": 22,
   "metadata": {},
   "outputs": [
    {
     "data": {
      "text/plain": [
       "<All keys matched successfully>"
      ]
     },
     "execution_count": 22,
     "metadata": {},
     "output_type": "execute_result"
    }
   ],
   "source": [
    "## step 2: load model\n",
    "myGAT = MyGAT(args)\n",
    "myGAT.load_state_dict(torch.load(args.model_file, map_location=torch.device('cpu')))"
   ]
  },
  {
   "cell_type": "code",
   "execution_count": 23,
   "metadata": {},
   "outputs": [
    {
     "data": {
      "text/plain": [
       "tensor([0, 0, 0, 1, 1, 1])"
      ]
     },
     "execution_count": 23,
     "metadata": {},
     "output_type": "execute_result"
    }
   ],
   "source": [
    "output, readout, att = fit(args, myGAT, bg)\n",
    "torch.argmax(output, dim=1)"
   ]
  },
  {
   "cell_type": "markdown",
   "metadata": {},
   "source": [
    "## 2. If you want to predict a large number of chemicals, I suggest take those chemicals into a file of csv."
   ]
  },
  {
   "cell_type": "code",
   "execution_count": 24,
   "metadata": {},
   "outputs": [
    {
     "data": {
      "text/html": [
       "<div>\n",
       "<style scoped>\n",
       "    .dataframe tbody tr th:only-of-type {\n",
       "        vertical-align: middle;\n",
       "    }\n",
       "\n",
       "    .dataframe tbody tr th {\n",
       "        vertical-align: top;\n",
       "    }\n",
       "\n",
       "    .dataframe thead th {\n",
       "        text-align: right;\n",
       "    }\n",
       "</style>\n",
       "<table border=\"1\" class=\"dataframe\">\n",
       "  <thead>\n",
       "    <tr style=\"text-align: right;\">\n",
       "      <th></th>\n",
       "      <th>smiles</th>\n",
       "    </tr>\n",
       "  </thead>\n",
       "  <tbody>\n",
       "    <tr>\n",
       "      <th>0</th>\n",
       "      <td>CCCCCCCCCCCCCCC</td>\n",
       "    </tr>\n",
       "    <tr>\n",
       "      <th>1</th>\n",
       "      <td>NCCCCCCN</td>\n",
       "    </tr>\n",
       "    <tr>\n",
       "      <th>2</th>\n",
       "      <td>OCCNCCO</td>\n",
       "    </tr>\n",
       "    <tr>\n",
       "      <th>3</th>\n",
       "      <td>CCCCCCCCCCCCCCCCCCOC(=O)CCSCCC(=O)OCCCCCCCCCCC...</td>\n",
       "    </tr>\n",
       "    <tr>\n",
       "      <th>4</th>\n",
       "      <td>CCOC(=O)C=C</td>\n",
       "    </tr>\n",
       "  </tbody>\n",
       "</table>\n",
       "</div>"
      ],
      "text/plain": [
       "                                              smiles\n",
       "0                                    CCCCCCCCCCCCCCC\n",
       "1                                           NCCCCCCN\n",
       "2                                            OCCNCCO\n",
       "3  CCCCCCCCCCCCCCCCCCOC(=O)CCSCCC(=O)OCCCCCCCCCCC...\n",
       "4                                        CCOC(=O)C=C"
      ]
     },
     "execution_count": 24,
     "metadata": {},
     "output_type": "execute_result"
    }
   ],
   "source": [
    "# step 1. read chemicals file\n",
    "import pandas as pd\n",
    "data_file = pd.read_csv(args.example_file)\n",
    "data_file.head()"
   ]
  },
  {
   "cell_type": "code",
   "execution_count": 34,
   "metadata": {},
   "outputs": [],
   "source": [
    "def collate_molgraphs(data):\n",
    "    \"\"\"Batching a list of datapoints for dataloader.\n",
    "\n",
    "    Parameters\n",
    "    ----------\n",
    "    data : list of 3-tuples or 4-tuples.\n",
    "        Each tuple is for a single datapoint, consisting of\n",
    "        a SMILES, a DGLGraph, all-task labels and optionally a binary\n",
    "        mask indicating the existence of labels.\n",
    "\n",
    "    Returns\n",
    "    -------\n",
    "    smiles : list\n",
    "        List of smiles\n",
    "    bg : DGLGraph\n",
    "        The batched DGLGraph.\n",
    "    labels : Tensor of dtype float32 and shape (B, T)\n",
    "        Batched datapoint labels. B is len(data) and\n",
    "        T is the number of total tasks.\n",
    "    masks : Tensor of dtype float32 and shape (B, T)\n",
    "        Batched datapoint binary mask, indicating the\n",
    "        existence of labels.\n",
    "    \"\"\"\n",
    "    if len(data[0]) == 3:\n",
    "        smiles, graphs, labels = map(list, zip(*data))\n",
    "    else:\n",
    "        smiles, graphs, labels, masks = map(list, zip(*data))\n",
    "\n",
    "    bg = dgl.batch(graphs)\n",
    "    bg.set_n_initializer(dgl.init.zero_initializer)\n",
    "    bg.set_e_initializer(dgl.init.zero_initializer)\n",
    "    labels = torch.stack(labels, dim=0)\n",
    "\n",
    "    if len(data[0]) == 3:\n",
    "        masks = torch.ones(labels.shape)\n",
    "    else:\n",
    "        masks = torch.stack(masks, dim=0)\n",
    "\n",
    "    return smiles, bg, labels, masks\n",
    "\n",
    "def get_dataloader(df, batch_size, collate_fn):\n",
    "    dataset = MoleculeCSVDataset(df = df, \n",
    "                                 smiles_to_graph=smile_to_graph,\n",
    "                                 node_featurizer = None,\n",
    "                                 edge_featurizer = None,\n",
    "                                 smiles_column='Smiles', \n",
    "                                 cache_file_path=\"./degradation_example.bin\")\n",
    "    if not get_dataset:\n",
    "        return DataLoader(dataset = dataset, batch_size = batch_size, shuffle = shuffle, collate_fn = collate_fn)\n",
    "    else:\n",
    "        return dataset, DataLoader(dataset = dataset, batch_size = batch_size, shuffle = shuffle, collate_fn = collate_fn)"
   ]
  },
  {
   "cell_type": "code",
   "execution_count": 36,
   "metadata": {},
   "outputs": [
    {
     "name": "stdout",
     "output_type": "stream",
     "text": [
      "Processing dgl graphs from scratch...\n"
     ]
    }
   ],
   "source": [
    "## step 2. make datset\n",
    "batch_size = 10\n",
    "dataset = MoleculeCSVDataset(df = data_file, \n",
    "                                 smiles_to_graph=smile_to_graph,\n",
    "                                 node_featurizer = None,\n",
    "                                 edge_featurizer = None,\n",
    "                                 smiles_column='smiles', \n",
    "                                 cache_file_path=\"./degradation_dataset.bin\")\n",
    "data_loader = DataLoader(dataset = dataset, batch_size = batch_size, collate_fn = collate_molgraphs)"
   ]
  },
  {
   "cell_type": "code",
   "execution_count": 44,
   "metadata": {},
   "outputs": [
    {
     "data": {
      "text/plain": [
       "<All keys matched successfully>"
      ]
     },
     "execution_count": 44,
     "metadata": {},
     "output_type": "execute_result"
    }
   ],
   "source": [
    "## setp 3. load model\n",
    "myGAT = MyGAT(args)\n",
    "myGAT.load_state_dict(torch.load(args.model_file, map_location=torch.device('cpu')))"
   ]
  },
  {
   "cell_type": "code",
   "execution_count": 66,
   "metadata": {},
   "outputs": [],
   "source": [
    "## step 4. fit\n",
    "myGAT.eval()\n",
    "result = []\n",
    "for idx, data in enumerate(data_loader):\n",
    "    smiles, graphs, _,_ = data\n",
    "    logits, readout, att = fit(args, myGAT, graphs)\n",
    "    result.extend(torch.argmax(logits.detach(), dim=1).tolist())\n",
    "#result"
   ]
  },
  {
   "cell_type": "code",
   "execution_count": 68,
   "metadata": {},
   "outputs": [],
   "source": [
    "## step 5. save result\n",
    "result =  pd.DataFrame(result)\n",
    "result.to_csv(args.result_file, index=None, header=None)"
   ]
  },
  {
   "cell_type": "markdown",
   "metadata": {},
   "source": [
    "## 3. If you want to observe attention score on chemicals structure"
   ]
  },
  {
   "cell_type": "code",
   "execution_count": 81,
   "metadata": {},
   "outputs": [],
   "source": [
    "from functools import partial\n",
    "from IPython.display import SVG, display\n",
    "import matplotlib\n",
    "import matplotlib.cm as cm\n",
    "from rdkit.Chem import rdDepictor\n",
    "from rdkit.Chem.Draw import rdMolDraw2D"
   ]
  },
  {
   "cell_type": "code",
   "execution_count": 110,
   "metadata": {},
   "outputs": [],
   "source": [
    "def svg_draw(mol, g, node_attention, bond_attention):\n",
    "    \"\"\"\n",
    "        mol_to_svg:\n",
    "        args:\n",
    "            mol: mol object of rdkit\n",
    "            grapg: \n",
    "            node_attention: 节点attention\n",
    "            bond_attention: 节点attention\n",
    "        return: svg\n",
    "    \"\"\"\n",
    "    # 绘制edge_attention\n",
    "    min_value = torch.min(bond_attention)\n",
    "    max_value = torch.max(bond_attention)\n",
    "    bond_attention = (bond_attention - min_value) // (max_value - min_value) # normalization\n",
    "    # Conver the weights to atom colors\n",
    "    #norm = matplotlib.colors.Normalize(vmin=0, vmax=1.0)\n",
    "    norm = matplotlib.colors.Normalize(vmin=min_value, vmax=max_value)\n",
    "    cmap = cm.get_cmap('Accent')\n",
    "    plt_colors = cm.ScalarMappable(norm=norm, cmap=cmap)\n",
    "    bond_colors = {i: plt_colors.to_rgba(bond_attention[i*2].data.item()) for i in range((g.number_of_edges()-g.number_of_nodes())//2)}\n",
    "\n",
    "    rdDepictor.Compute2DCoords(mol)\n",
    "    drawer = rdMolDraw2D.MolDraw2DSVG(500,250)\n",
    "    drawer.SetFontSize(1)\n",
    "    op = drawer.drawOptions()\n",
    "\n",
    "    mol = rdMolDraw2D.PrepareMolForDrawing(mol)\n",
    "    #print(len(bond_colors), len(list(range(g.number_of_edges() // 2))))\n",
    "    drawer.DrawMolecule(mol,highlightAtoms=None,highlightBonds=list(range(len(bond_colors))), highlightBondColors=bond_colors)\n",
    "\n",
    "    drawer.FinishDrawing()\n",
    "    svg = drawer.GetDrawingText()\n",
    "    svg = svg.replace('svg:','')\n",
    "    return svg"
   ]
  },
  {
   "cell_type": "code",
   "execution_count": 111,
   "metadata": {},
   "outputs": [],
   "source": [
    "def draw(mol_idxs,  dataset, model, col=None):\n",
    "    \"\"\"Visualize the learned atom weights in readout && bond attention.\n",
    "    \n",
    "    Parameters\n",
    "    ----------\n",
    "    mol_id : int\n",
    "        Index for the molecule to visualize in the dataset.\n",
    "    dataset\n",
    "        As the model has multiple rounds of readout, an additional\n",
    "        index is used to specify the round for the weights.\n",
    "    \"\"\"\n",
    "    # Get the weights from the model.\n",
    "\n",
    "    smiles = []\n",
    "    graphs = []\n",
    "    for idx in mol_idxs:\n",
    "        smile, g, _, _ = dataset[idx]\n",
    "        smiles.append(smile)\n",
    "        graphs.append(g)\n",
    "    \n",
    "    bg = dgl.batch(graphs)  \n",
    "\n",
    "    logit, readout, bond_attentions = fit(args, model, bg)\n",
    "    bond_attention_split = []\n",
    "    if col is not None: \n",
    "        bond_attentions = torch.squeeze(bond_attentions)[:, col]\n",
    "        for i in range(len(bg.batch_num_edges())):\n",
    "            if i == 0:\n",
    "                bond_attention = bond_attentions[0:bg.batch_num_edges()[0].item()]\n",
    "            else:\n",
    "                bond_attention = bond_attentions[\n",
    "                    torch.sum(bg.batch_num_edges()[:i]).item():\n",
    "                    torch.sum(bg.batch_num_edges()[:i+1]).item()]\n",
    "            bond_attention_split.append(bond_attention)\n",
    "    else:\n",
    "        for i in range(len(bg.batch_num_edges())):\n",
    "            if i == 0:\n",
    "                bond_attention, _= torch.max(bond_attentions[0:bg.batch_num_edges()[0].item()], dim=1)\n",
    "            else:\n",
    "                bond_attention, _= torch.max(bond_attentions[\n",
    "                    torch.sum(bg.batch_num_edges()[:i]).item() :\n",
    "                    torch.sum(bg.batch_num_edges()[:i+1]).item()\n",
    "                    ], dim=1)\n",
    "                bond_attention = torch.tensor([1 if i > 0.5 else  0 for i in bond_attention.detach().cpu()])\n",
    "            bond_attention_split.append(bond_attention)\n",
    "    mols = [Chem.MolFromSmiles(s) for s in smiles]\n",
    "\n",
    "    svgs = [svg_draw(mols[i], graphs[i], None, bond_attention_split[i].squeeze()) for i in range(len(graphs))]\n",
    "    for i in range(len(graphs)):\n",
    "        display(SVG(svgs[i]))"
   ]
  },
  {
   "cell_type": "code",
   "execution_count": 112,
   "metadata": {},
   "outputs": [
    {
     "name": "stdout",
     "output_type": "stream",
     "text": [
      "Processing dgl graphs from scratch...\n"
     ]
    },
    {
     "data": {
      "image/svg+xml": [
       "<svg baseProfile=\"full\" height=\"250px\" version=\"1.1\" viewBox=\"0 0 500 250\" width=\"500px\" xml:space=\"preserve\" xmlns=\"http://www.w3.org/2000/svg\" xmlns:rdkit=\"http://www.rdkit.org/xml\" xmlns:xlink=\"http://www.w3.org/1999/xlink\">\n",
       "<!-- END OF HEADER -->\n",
       "<rect height=\"250\" style=\"opacity:1.0;fill:#FFFFFF;stroke:none\" width=\"500\" x=\"0\" y=\"0\"> </rect>\n",
       "<path d=\"M 22.7273,134.373 L 55.1948,115.627\" style=\"fill:none;fill-rule:evenodd;stroke:#7FC97F;stroke-width:8.0px;stroke-linecap:butt;stroke-linejoin:miter;stroke-opacity:1\"/>\n",
       "<path d=\"M 55.1948,115.627 L 87.6623,134.373\" style=\"fill:none;fill-rule:evenodd;stroke:#7FC97F;stroke-width:8.0px;stroke-linecap:butt;stroke-linejoin:miter;stroke-opacity:1\"/>\n",
       "<path d=\"M 87.6623,134.373 L 120.13,115.627\" style=\"fill:none;fill-rule:evenodd;stroke:#7FC97F;stroke-width:8.0px;stroke-linecap:butt;stroke-linejoin:miter;stroke-opacity:1\"/>\n",
       "<path d=\"M 120.13,115.627 L 152.597,134.373\" style=\"fill:none;fill-rule:evenodd;stroke:#7FC97F;stroke-width:8.0px;stroke-linecap:butt;stroke-linejoin:miter;stroke-opacity:1\"/>\n",
       "<path d=\"M 152.597,134.373 L 185.065,115.627\" style=\"fill:none;fill-rule:evenodd;stroke:#7FC97F;stroke-width:8.0px;stroke-linecap:butt;stroke-linejoin:miter;stroke-opacity:1\"/>\n",
       "<path d=\"M 185.065,115.627 L 217.532,134.373\" style=\"fill:none;fill-rule:evenodd;stroke:#7FC97F;stroke-width:8.0px;stroke-linecap:butt;stroke-linejoin:miter;stroke-opacity:1\"/>\n",
       "<path d=\"M 217.532,134.373 L 250,115.627\" style=\"fill:none;fill-rule:evenodd;stroke:#7FC97F;stroke-width:8.0px;stroke-linecap:butt;stroke-linejoin:miter;stroke-opacity:1\"/>\n",
       "<path d=\"M 250,115.627 L 282.468,134.373\" style=\"fill:none;fill-rule:evenodd;stroke:#7FC97F;stroke-width:8.0px;stroke-linecap:butt;stroke-linejoin:miter;stroke-opacity:1\"/>\n",
       "<path d=\"M 282.468,134.373 L 314.935,115.627\" style=\"fill:none;fill-rule:evenodd;stroke:#7FC97F;stroke-width:8.0px;stroke-linecap:butt;stroke-linejoin:miter;stroke-opacity:1\"/>\n",
       "<path d=\"M 314.935,115.627 L 347.403,134.373\" style=\"fill:none;fill-rule:evenodd;stroke:#7FC97F;stroke-width:8.0px;stroke-linecap:butt;stroke-linejoin:miter;stroke-opacity:1\"/>\n",
       "<path d=\"M 347.403,134.373 L 379.87,115.627\" style=\"fill:none;fill-rule:evenodd;stroke:#7FC97F;stroke-width:8.0px;stroke-linecap:butt;stroke-linejoin:miter;stroke-opacity:1\"/>\n",
       "<path d=\"M 379.87,115.627 L 412.338,134.373\" style=\"fill:none;fill-rule:evenodd;stroke:#7FC97F;stroke-width:8.0px;stroke-linecap:butt;stroke-linejoin:miter;stroke-opacity:1\"/>\n",
       "<path d=\"M 412.338,134.373 L 444.805,115.627\" style=\"fill:none;fill-rule:evenodd;stroke:#7FC97F;stroke-width:8.0px;stroke-linecap:butt;stroke-linejoin:miter;stroke-opacity:1\"/>\n",
       "<path d=\"M 444.805,115.627 L 477.273,134.373\" style=\"fill:none;fill-rule:evenodd;stroke:#666666;stroke-width:8.0px;stroke-linecap:butt;stroke-linejoin:miter;stroke-opacity:1\"/>\n",
       "<path class=\"bond-0\" d=\"M 22.7273,134.373 L 55.1948,115.627\" style=\"fill:none;fill-rule:evenodd;stroke:#000000;stroke-width:2.0px;stroke-linecap:butt;stroke-linejoin:miter;stroke-opacity:1\"/>\n",
       "<path class=\"bond-1\" d=\"M 55.1948,115.627 L 87.6623,134.373\" style=\"fill:none;fill-rule:evenodd;stroke:#000000;stroke-width:2.0px;stroke-linecap:butt;stroke-linejoin:miter;stroke-opacity:1\"/>\n",
       "<path class=\"bond-2\" d=\"M 87.6623,134.373 L 120.13,115.627\" style=\"fill:none;fill-rule:evenodd;stroke:#000000;stroke-width:2.0px;stroke-linecap:butt;stroke-linejoin:miter;stroke-opacity:1\"/>\n",
       "<path class=\"bond-3\" d=\"M 120.13,115.627 L 152.597,134.373\" style=\"fill:none;fill-rule:evenodd;stroke:#000000;stroke-width:2.0px;stroke-linecap:butt;stroke-linejoin:miter;stroke-opacity:1\"/>\n",
       "<path class=\"bond-4\" d=\"M 152.597,134.373 L 185.065,115.627\" style=\"fill:none;fill-rule:evenodd;stroke:#000000;stroke-width:2.0px;stroke-linecap:butt;stroke-linejoin:miter;stroke-opacity:1\"/>\n",
       "<path class=\"bond-5\" d=\"M 185.065,115.627 L 217.532,134.373\" style=\"fill:none;fill-rule:evenodd;stroke:#000000;stroke-width:2.0px;stroke-linecap:butt;stroke-linejoin:miter;stroke-opacity:1\"/>\n",
       "<path class=\"bond-6\" d=\"M 217.532,134.373 L 250,115.627\" style=\"fill:none;fill-rule:evenodd;stroke:#000000;stroke-width:2.0px;stroke-linecap:butt;stroke-linejoin:miter;stroke-opacity:1\"/>\n",
       "<path class=\"bond-7\" d=\"M 250,115.627 L 282.468,134.373\" style=\"fill:none;fill-rule:evenodd;stroke:#000000;stroke-width:2.0px;stroke-linecap:butt;stroke-linejoin:miter;stroke-opacity:1\"/>\n",
       "<path class=\"bond-8\" d=\"M 282.468,134.373 L 314.935,115.627\" style=\"fill:none;fill-rule:evenodd;stroke:#000000;stroke-width:2.0px;stroke-linecap:butt;stroke-linejoin:miter;stroke-opacity:1\"/>\n",
       "<path class=\"bond-9\" d=\"M 314.935,115.627 L 347.403,134.373\" style=\"fill:none;fill-rule:evenodd;stroke:#000000;stroke-width:2.0px;stroke-linecap:butt;stroke-linejoin:miter;stroke-opacity:1\"/>\n",
       "<path class=\"bond-10\" d=\"M 347.403,134.373 L 379.87,115.627\" style=\"fill:none;fill-rule:evenodd;stroke:#000000;stroke-width:2.0px;stroke-linecap:butt;stroke-linejoin:miter;stroke-opacity:1\"/>\n",
       "<path class=\"bond-11\" d=\"M 379.87,115.627 L 412.338,134.373\" style=\"fill:none;fill-rule:evenodd;stroke:#000000;stroke-width:2.0px;stroke-linecap:butt;stroke-linejoin:miter;stroke-opacity:1\"/>\n",
       "<path class=\"bond-12\" d=\"M 412.338,134.373 L 444.805,115.627\" style=\"fill:none;fill-rule:evenodd;stroke:#000000;stroke-width:2.0px;stroke-linecap:butt;stroke-linejoin:miter;stroke-opacity:1\"/>\n",
       "<path class=\"bond-13\" d=\"M 444.805,115.627 L 477.273,134.373\" style=\"fill:none;fill-rule:evenodd;stroke:#000000;stroke-width:2.0px;stroke-linecap:butt;stroke-linejoin:miter;stroke-opacity:1\"/>\n",
       "</svg>"
      ],
      "text/plain": [
       "<IPython.core.display.SVG object>"
      ]
     },
     "metadata": {},
     "output_type": "display_data"
    },
    {
     "data": {
      "image/svg+xml": [
       "<svg baseProfile=\"full\" height=\"250px\" version=\"1.1\" viewBox=\"0 0 500 250\" width=\"500px\" xml:space=\"preserve\" xmlns=\"http://www.w3.org/2000/svg\" xmlns:rdkit=\"http://www.rdkit.org/xml\" xmlns:xlink=\"http://www.w3.org/1999/xlink\">\n",
       "<!-- END OF HEADER -->\n",
       "<rect height=\"250\" style=\"opacity:1.0;fill:#FFFFFF;stroke:none\" width=\"500\" x=\"0\" y=\"0\"> </rect>\n",
       "<path d=\"M 445.023,131.18 L 388.527,100.631\" style=\"fill:none;fill-rule:evenodd;stroke:#666666;stroke-width:13.7px;stroke-linecap:butt;stroke-linejoin:miter;stroke-opacity:1\"/>\n",
       "<path d=\"M 388.527,100.631 L 333.823,134.284\" style=\"fill:none;fill-rule:evenodd;stroke:#7FC97F;stroke-width:13.7px;stroke-linecap:butt;stroke-linejoin:miter;stroke-opacity:1\"/>\n",
       "<path d=\"M 333.823,134.284 L 277.326,103.735\" style=\"fill:none;fill-rule:evenodd;stroke:#7FC97F;stroke-width:13.7px;stroke-linecap:butt;stroke-linejoin:miter;stroke-opacity:1\"/>\n",
       "<path d=\"M 277.326,103.735 L 222.622,137.388\" style=\"fill:none;fill-rule:evenodd;stroke:#666666;stroke-width:13.7px;stroke-linecap:butt;stroke-linejoin:miter;stroke-opacity:1\"/>\n",
       "<path d=\"M 222.622,137.388 L 166.126,106.839\" style=\"fill:none;fill-rule:evenodd;stroke:#7FC97F;stroke-width:13.7px;stroke-linecap:butt;stroke-linejoin:miter;stroke-opacity:1\"/>\n",
       "<path d=\"M 166.126,106.839 L 111.422,140.492\" style=\"fill:none;fill-rule:evenodd;stroke:#7FC97F;stroke-width:13.7px;stroke-linecap:butt;stroke-linejoin:miter;stroke-opacity:1\"/>\n",
       "<path d=\"M 111.422,140.492 L 54.9258,109.943\" style=\"fill:none;fill-rule:evenodd;stroke:#666666;stroke-width:13.7px;stroke-linecap:butt;stroke-linejoin:miter;stroke-opacity:1\"/>\n",
       "<path class=\"bond-0\" d=\"M 436.519,126.582 L 412.523,113.606\" style=\"fill:none;fill-rule:evenodd;stroke:#0000FF;stroke-width:2.0px;stroke-linecap:butt;stroke-linejoin:miter;stroke-opacity:1\"/>\n",
       "<path class=\"bond-0\" d=\"M 412.523,113.606 L 388.527,100.631\" style=\"fill:none;fill-rule:evenodd;stroke:#000000;stroke-width:2.0px;stroke-linecap:butt;stroke-linejoin:miter;stroke-opacity:1\"/>\n",
       "<path class=\"bond-1\" d=\"M 388.527,100.631 L 333.823,134.284\" style=\"fill:none;fill-rule:evenodd;stroke:#000000;stroke-width:2.0px;stroke-linecap:butt;stroke-linejoin:miter;stroke-opacity:1\"/>\n",
       "<path class=\"bond-2\" d=\"M 333.823,134.284 L 277.326,103.735\" style=\"fill:none;fill-rule:evenodd;stroke:#000000;stroke-width:2.0px;stroke-linecap:butt;stroke-linejoin:miter;stroke-opacity:1\"/>\n",
       "<path class=\"bond-3\" d=\"M 277.326,103.735 L 222.622,137.388\" style=\"fill:none;fill-rule:evenodd;stroke:#000000;stroke-width:2.0px;stroke-linecap:butt;stroke-linejoin:miter;stroke-opacity:1\"/>\n",
       "<path class=\"bond-4\" d=\"M 222.622,137.388 L 166.126,106.839\" style=\"fill:none;fill-rule:evenodd;stroke:#000000;stroke-width:2.0px;stroke-linecap:butt;stroke-linejoin:miter;stroke-opacity:1\"/>\n",
       "<path class=\"bond-5\" d=\"M 166.126,106.839 L 111.422,140.492\" style=\"fill:none;fill-rule:evenodd;stroke:#000000;stroke-width:2.0px;stroke-linecap:butt;stroke-linejoin:miter;stroke-opacity:1\"/>\n",
       "<path class=\"bond-6\" d=\"M 111.422,140.492 L 87.4257,127.517\" style=\"fill:none;fill-rule:evenodd;stroke:#000000;stroke-width:2.0px;stroke-linecap:butt;stroke-linejoin:miter;stroke-opacity:1\"/>\n",
       "<path class=\"bond-6\" d=\"M 87.4257,127.517 L 63.4294,114.542\" style=\"fill:none;fill-rule:evenodd;stroke:#0000FF;stroke-width:2.0px;stroke-linecap:butt;stroke-linejoin:miter;stroke-opacity:1\"/>\n",
       "<path class=\"atom-0\" d=\"M 441.002 122.085 L 446.962 131.719 Q 447.553 132.67, 448.504 134.391 Q 449.454 136.112, 449.506 136.215 L 449.506 122.085 L 451.921 122.085 L 451.921 140.274 L 449.429 140.274 L 443.032 129.741 Q 442.287 128.508, 441.49 127.095 Q 440.72 125.682, 440.488 125.245 L 440.488 140.274 L 438.125 140.274 L 438.125 122.085 L 441.002 122.085 \" fill=\"#0000FF\"/>\n",
       "<path class=\"atom-0\" d=\"M 454.104 122.085 L 456.571 122.085 L 456.571 129.818 L 465.871 129.818 L 465.871 122.085 L 468.337 122.085 L 468.337 140.274 L 465.871 140.274 L 465.871 131.874 L 456.571 131.874 L 456.571 140.274 L 454.104 140.274 L 454.104 122.085 \" fill=\"#0000FF\"/>\n",
       "<path class=\"atom-0\" d=\"M 469.219 139.636 Q 469.66 138.5, 470.711 137.873 Q 471.762 137.228, 473.22 137.228 Q 475.035 137.228, 476.052 138.212 Q 477.069 139.195, 477.069 140.942 Q 477.069 142.722, 475.747 144.384 Q 474.441 146.045, 471.728 148.012 L 477.273 148.012 L 477.273 149.369 L 469.185 149.369 L 469.185 148.233 Q 471.423 146.639, 472.746 145.452 Q 474.085 144.265, 474.729 143.197 Q 475.374 142.129, 475.374 141.027 Q 475.374 139.874, 474.797 139.229 Q 474.221 138.585, 473.22 138.585 Q 472.254 138.585, 471.609 138.975 Q 470.965 139.365, 470.507 140.23 L 469.219 139.636 \" fill=\"#0000FF\"/>\n",
       "<path class=\"atom-7\" d=\"M 22.7273 100.849 L 25.1936 100.849 L 25.1936 108.582 L 34.4936 108.582 L 34.4936 100.849 L 36.9599 100.849 L 36.9599 119.038 L 34.4936 119.038 L 34.4936 110.637 L 25.1936 110.637 L 25.1936 119.038 L 22.7273 119.038 L 22.7273 100.849 \" fill=\"#0000FF\"/>\n",
       "<path class=\"atom-7\" d=\"M 37.8416 118.4 Q 38.2824 117.264, 39.3337 116.636 Q 40.3849 115.992, 41.8431 115.992 Q 43.6574 115.992, 44.6748 116.976 Q 45.6921 117.959, 45.6921 119.705 Q 45.6921 121.486, 44.3696 123.147 Q 43.064 124.809, 40.351 126.776 L 45.8956 126.776 L 45.8956 128.132 L 37.8077 128.132 L 37.8077 126.996 Q 40.0458 125.403, 41.3684 124.216 Q 42.7079 123.029, 43.3522 121.961 Q 43.9965 120.892, 43.9965 119.79 Q 43.9965 118.637, 43.42 117.993 Q 42.8435 117.349, 41.8431 117.349 Q 40.8767 117.349, 40.2323 117.739 Q 39.588 118.129, 39.1302 118.993 L 37.8416 118.4 \" fill=\"#0000FF\"/>\n",
       "<path class=\"atom-7\" d=\"M 50.9052 100.849 L 56.8655 110.483 Q 57.4563 111.434, 58.4069 113.155 Q 59.3574 114.876, 59.4088 114.979 L 59.4088 100.849 L 61.8237 100.849 L 61.8237 119.038 L 59.3318 119.038 L 52.9348 108.505 Q 52.1898 107.272, 51.3934 105.859 Q 50.6226 104.446, 50.3914 104.009 L 50.3914 119.038 L 48.0279 119.038 L 48.0279 100.849 L 50.9052 100.849 \" fill=\"#0000FF\"/>\n",
       "</svg>"
      ],
      "text/plain": [
       "<IPython.core.display.SVG object>"
      ]
     },
     "metadata": {},
     "output_type": "display_data"
    },
    {
     "data": {
      "image/svg+xml": [
       "<svg baseProfile=\"full\" height=\"250px\" version=\"1.1\" viewBox=\"0 0 500 250\" width=\"500px\" xml:space=\"preserve\" xmlns=\"http://www.w3.org/2000/svg\" xmlns:rdkit=\"http://www.rdkit.org/xml\" xmlns:xlink=\"http://www.w3.org/1999/xlink\">\n",
       "<!-- END OF HEADER -->\n",
       "<rect height=\"250\" style=\"opacity:1.0;fill:#FFFFFF;stroke:none\" width=\"500\" x=\"0\" y=\"0\"> </rect>\n",
       "<path d=\"M 51.0994,94.0808 L 117.221,132.256\" style=\"fill:none;fill-rule:evenodd;stroke:#7FC97F;stroke-width:16.3px;stroke-linecap:butt;stroke-linejoin:miter;stroke-opacity:1\"/>\n",
       "<path d=\"M 117.221,132.256 L 183.343,94.0808\" style=\"fill:none;fill-rule:evenodd;stroke:#7FC97F;stroke-width:16.3px;stroke-linecap:butt;stroke-linejoin:miter;stroke-opacity:1\"/>\n",
       "<path d=\"M 183.343,94.0808 L 249.466,132.256\" style=\"fill:none;fill-rule:evenodd;stroke:#666666;stroke-width:16.3px;stroke-linecap:butt;stroke-linejoin:miter;stroke-opacity:1\"/>\n",
       "<path d=\"M 249.466,132.256 L 315.588,94.0808\" style=\"fill:none;fill-rule:evenodd;stroke:#7FC97F;stroke-width:16.3px;stroke-linecap:butt;stroke-linejoin:miter;stroke-opacity:1\"/>\n",
       "<path d=\"M 315.588,94.0808 L 381.71,132.256\" style=\"fill:none;fill-rule:evenodd;stroke:#666666;stroke-width:16.3px;stroke-linecap:butt;stroke-linejoin:miter;stroke-opacity:1\"/>\n",
       "<path d=\"M 381.71,132.256 L 447.832,94.0808\" style=\"fill:none;fill-rule:evenodd;stroke:#666666;stroke-width:16.3px;stroke-linecap:butt;stroke-linejoin:miter;stroke-opacity:1\"/>\n",
       "<path class=\"bond-0\" d=\"M 62.9338,100.913 L 90.0776,116.585\" style=\"fill:none;fill-rule:evenodd;stroke:#FF0000;stroke-width:2.0px;stroke-linecap:butt;stroke-linejoin:miter;stroke-opacity:1\"/>\n",
       "<path class=\"bond-0\" d=\"M 90.0776,116.585 L 117.221,132.256\" style=\"fill:none;fill-rule:evenodd;stroke:#000000;stroke-width:2.0px;stroke-linecap:butt;stroke-linejoin:miter;stroke-opacity:1\"/>\n",
       "<path class=\"bond-1\" d=\"M 117.221,132.256 L 183.343,94.0808\" style=\"fill:none;fill-rule:evenodd;stroke:#000000;stroke-width:2.0px;stroke-linecap:butt;stroke-linejoin:miter;stroke-opacity:1\"/>\n",
       "<path class=\"bond-2\" d=\"M 183.343,94.0808 L 211.35,110.25\" style=\"fill:none;fill-rule:evenodd;stroke:#000000;stroke-width:2.0px;stroke-linecap:butt;stroke-linejoin:miter;stroke-opacity:1\"/>\n",
       "<path class=\"bond-2\" d=\"M 211.35,110.25 L 239.357,126.42\" style=\"fill:none;fill-rule:evenodd;stroke:#0000FF;stroke-width:2.0px;stroke-linecap:butt;stroke-linejoin:miter;stroke-opacity:1\"/>\n",
       "<path class=\"bond-3\" d=\"M 259.574,126.42 L 287.581,110.25\" style=\"fill:none;fill-rule:evenodd;stroke:#0000FF;stroke-width:2.0px;stroke-linecap:butt;stroke-linejoin:miter;stroke-opacity:1\"/>\n",
       "<path class=\"bond-3\" d=\"M 287.581,110.25 L 315.588,94.0808\" style=\"fill:none;fill-rule:evenodd;stroke:#000000;stroke-width:2.0px;stroke-linecap:butt;stroke-linejoin:miter;stroke-opacity:1\"/>\n",
       "<path class=\"bond-4\" d=\"M 315.588,94.0808 L 381.71,132.256\" style=\"fill:none;fill-rule:evenodd;stroke:#000000;stroke-width:2.0px;stroke-linecap:butt;stroke-linejoin:miter;stroke-opacity:1\"/>\n",
       "<path class=\"bond-5\" d=\"M 381.71,132.256 L 408.853,116.585\" style=\"fill:none;fill-rule:evenodd;stroke:#000000;stroke-width:2.0px;stroke-linecap:butt;stroke-linejoin:miter;stroke-opacity:1\"/>\n",
       "<path class=\"bond-5\" d=\"M 408.853,116.585 L 435.997,100.913\" style=\"fill:none;fill-rule:evenodd;stroke:#FF0000;stroke-width:2.0px;stroke-linecap:butt;stroke-linejoin:miter;stroke-opacity:1\"/>\n",
       "<path class=\"atom-0\" d=\"M 22.7273 83.3917 L 25.6592 83.3917 L 25.6592 92.5843 L 36.7148 92.5843 L 36.7148 83.3917 L 39.6467 83.3917 L 39.6467 105.014 L 36.7148 105.014 L 36.7148 95.0276 L 25.6592 95.0276 L 25.6592 105.014 L 22.7273 105.014 L 22.7273 83.3917 \" fill=\"#FF0000\"/>\n",
       "<path class=\"atom-0\" d=\"M 41.1737 94.1419 Q 41.1737 88.95, 43.7391 86.0487 Q 46.3045 83.1473, 51.0994 83.1473 Q 55.8942 83.1473, 58.4596 86.0487 Q 61.025 88.95, 61.025 94.1419 Q 61.025 99.3949, 58.4291 102.388 Q 55.8331 105.35, 51.0994 105.35 Q 46.3351 105.35, 43.7391 102.388 Q 41.1737 99.4254, 41.1737 94.1419 M 51.0994 102.907 Q 54.3977 102.907, 56.1691 100.708 Q 57.971 98.4787, 57.971 94.1419 Q 57.971 89.8968, 56.1691 87.759 Q 54.3977 85.5906, 51.0994 85.5906 Q 47.801 85.5906, 45.9991 87.7284 Q 44.2278 89.8662, 44.2278 94.1419 Q 44.2278 98.5092, 45.9991 100.708 Q 47.801 102.907, 51.0994 102.907 \" fill=\"#FF0000\"/>\n",
       "<path class=\"atom-3\" d=\"M 244.686 121.445 L 251.771 132.898 Q 252.474 134.028, 253.604 136.074 Q 254.734 138.12, 254.795 138.242 L 254.795 121.445 L 257.666 121.445 L 257.666 143.068 L 254.703 143.068 L 247.099 130.546 Q 246.213 129.08, 245.266 127.4 Q 244.35 125.721, 244.075 125.202 L 244.075 143.068 L 241.265 143.068 L 241.265 121.445 L 244.686 121.445 \" fill=\"#0000FF\"/>\n",
       "<path class=\"atom-3\" d=\"M 241.006 145.23 L 243.938 145.23 L 243.938 154.423 L 254.993 154.423 L 254.993 145.23 L 257.925 145.23 L 257.925 166.853 L 254.993 166.853 L 254.993 156.866 L 243.938 156.866 L 243.938 166.853 L 241.006 166.853 L 241.006 145.23 \" fill=\"#0000FF\"/>\n",
       "<path class=\"atom-6\" d=\"M 437.906 94.1419 Q 437.906 88.95, 440.471 86.0487 Q 443.037 83.1473, 447.832 83.1473 Q 452.627 83.1473, 455.192 86.0487 Q 457.757 88.95, 457.757 94.1419 Q 457.757 99.3949, 455.161 102.388 Q 452.565 105.35, 447.832 105.35 Q 443.067 105.35, 440.471 102.388 Q 437.906 99.4254, 437.906 94.1419 M 447.832 102.907 Q 451.13 102.907, 452.901 100.708 Q 454.703 98.4787, 454.703 94.1419 Q 454.703 89.8968, 452.901 87.759 Q 451.13 85.5906, 447.832 85.5906 Q 444.533 85.5906, 442.731 87.7284 Q 440.96 89.8662, 440.96 94.1419 Q 440.96 98.5092, 442.731 100.708 Q 444.533 102.907, 447.832 102.907 \" fill=\"#FF0000\"/>\n",
       "<path class=\"atom-6\" d=\"M 460.353 83.3917 L 463.285 83.3917 L 463.285 92.5843 L 474.341 92.5843 L 474.341 83.3917 L 477.273 83.3917 L 477.273 105.014 L 474.341 105.014 L 474.341 95.0276 L 463.285 95.0276 L 463.285 105.014 L 460.353 105.014 L 460.353 83.3917 \" fill=\"#FF0000\"/>\n",
       "</svg>"
      ],
      "text/plain": [
       "<IPython.core.display.SVG object>"
      ]
     },
     "metadata": {},
     "output_type": "display_data"
    },
    {
     "data": {
      "image/svg+xml": [
       "<svg baseProfile=\"full\" height=\"250px\" version=\"1.1\" viewBox=\"0 0 500 250\" width=\"500px\" xml:space=\"preserve\" xmlns=\"http://www.w3.org/2000/svg\" xmlns:rdkit=\"http://www.rdkit.org/xml\" xmlns:xlink=\"http://www.w3.org/1999/xlink\">\n",
       "<!-- END OF HEADER -->\n",
       "<rect height=\"250\" style=\"opacity:1.0;fill:#FFFFFF;stroke:none\" width=\"500\" x=\"0\" y=\"0\"> </rect>\n",
       "<path d=\"M 22.7273,133.908 L 33.0579,127.944\" style=\"fill:none;fill-rule:evenodd;stroke:#7FC97F;stroke-width:2.5px;stroke-linecap:butt;stroke-linejoin:miter;stroke-opacity:1\"/>\n",
       "<path d=\"M 33.0579,127.944 L 43.3884,133.908\" style=\"fill:none;fill-rule:evenodd;stroke:#7FC97F;stroke-width:2.5px;stroke-linecap:butt;stroke-linejoin:miter;stroke-opacity:1\"/>\n",
       "<path d=\"M 43.3884,133.908 L 53.719,127.944\" style=\"fill:none;fill-rule:evenodd;stroke:#7FC97F;stroke-width:2.5px;stroke-linecap:butt;stroke-linejoin:miter;stroke-opacity:1\"/>\n",
       "<path d=\"M 53.719,127.944 L 64.0496,133.908\" style=\"fill:none;fill-rule:evenodd;stroke:#7FC97F;stroke-width:2.5px;stroke-linecap:butt;stroke-linejoin:miter;stroke-opacity:1\"/>\n",
       "<path d=\"M 64.0496,133.908 L 74.3802,127.944\" style=\"fill:none;fill-rule:evenodd;stroke:#7FC97F;stroke-width:2.5px;stroke-linecap:butt;stroke-linejoin:miter;stroke-opacity:1\"/>\n",
       "<path d=\"M 74.3802,127.944 L 84.7107,133.908\" style=\"fill:none;fill-rule:evenodd;stroke:#7FC97F;stroke-width:2.5px;stroke-linecap:butt;stroke-linejoin:miter;stroke-opacity:1\"/>\n",
       "<path d=\"M 84.7107,133.908 L 95.0413,127.944\" style=\"fill:none;fill-rule:evenodd;stroke:#7FC97F;stroke-width:2.5px;stroke-linecap:butt;stroke-linejoin:miter;stroke-opacity:1\"/>\n",
       "<path d=\"M 95.0413,127.944 L 105.372,133.908\" style=\"fill:none;fill-rule:evenodd;stroke:#7FC97F;stroke-width:2.5px;stroke-linecap:butt;stroke-linejoin:miter;stroke-opacity:1\"/>\n",
       "<path d=\"M 105.372,133.908 L 115.702,127.944\" style=\"fill:none;fill-rule:evenodd;stroke:#666666;stroke-width:2.5px;stroke-linecap:butt;stroke-linejoin:miter;stroke-opacity:1\"/>\n",
       "<path d=\"M 115.702,127.944 L 126.033,133.908\" style=\"fill:none;fill-rule:evenodd;stroke:#7FC97F;stroke-width:2.5px;stroke-linecap:butt;stroke-linejoin:miter;stroke-opacity:1\"/>\n",
       "<path d=\"M 126.033,133.908 L 136.364,127.944\" style=\"fill:none;fill-rule:evenodd;stroke:#666666;stroke-width:2.5px;stroke-linecap:butt;stroke-linejoin:miter;stroke-opacity:1\"/>\n",
       "<path d=\"M 136.364,127.944 L 146.694,133.908\" style=\"fill:none;fill-rule:evenodd;stroke:#7FC97F;stroke-width:2.5px;stroke-linecap:butt;stroke-linejoin:miter;stroke-opacity:1\"/>\n",
       "<path d=\"M 146.694,133.908 L 157.025,127.944\" style=\"fill:none;fill-rule:evenodd;stroke:#7FC97F;stroke-width:2.5px;stroke-linecap:butt;stroke-linejoin:miter;stroke-opacity:1\"/>\n",
       "<path d=\"M 157.025,127.944 L 167.355,133.908\" style=\"fill:none;fill-rule:evenodd;stroke:#7FC97F;stroke-width:2.5px;stroke-linecap:butt;stroke-linejoin:miter;stroke-opacity:1\"/>\n",
       "<path d=\"M 167.355,133.908 L 177.686,127.944\" style=\"fill:none;fill-rule:evenodd;stroke:#7FC97F;stroke-width:2.5px;stroke-linecap:butt;stroke-linejoin:miter;stroke-opacity:1\"/>\n",
       "<path d=\"M 177.686,127.944 L 188.017,133.908\" style=\"fill:none;fill-rule:evenodd;stroke:#7FC97F;stroke-width:2.5px;stroke-linecap:butt;stroke-linejoin:miter;stroke-opacity:1\"/>\n",
       "<path d=\"M 188.017,133.908 L 198.347,127.944\" style=\"fill:none;fill-rule:evenodd;stroke:#7FC97F;stroke-width:2.5px;stroke-linecap:butt;stroke-linejoin:miter;stroke-opacity:1\"/>\n",
       "<path d=\"M 198.347,127.944 L 208.678,133.908\" style=\"fill:none;fill-rule:evenodd;stroke:#7FC97F;stroke-width:2.5px;stroke-linecap:butt;stroke-linejoin:miter;stroke-opacity:1\"/>\n",
       "<path d=\"M 208.678,133.908 L 219.008,127.944\" style=\"fill:none;fill-rule:evenodd;stroke:#7FC97F;stroke-width:2.5px;stroke-linecap:butt;stroke-linejoin:miter;stroke-opacity:1\"/>\n",
       "<path d=\"M 219.008,127.944 L 219.008,116.015\" style=\"fill:none;fill-rule:evenodd;stroke:#666666;stroke-width:2.5px;stroke-linecap:butt;stroke-linejoin:miter;stroke-opacity:1\"/>\n",
       "<path d=\"M 219.008,127.944 L 229.339,133.908\" style=\"fill:none;fill-rule:evenodd;stroke:#666666;stroke-width:2.5px;stroke-linecap:butt;stroke-linejoin:miter;stroke-opacity:1\"/>\n",
       "<path d=\"M 229.339,133.908 L 239.669,127.944\" style=\"fill:none;fill-rule:evenodd;stroke:#7FC97F;stroke-width:2.5px;stroke-linecap:butt;stroke-linejoin:miter;stroke-opacity:1\"/>\n",
       "<path d=\"M 239.669,127.944 L 250,133.908\" style=\"fill:none;fill-rule:evenodd;stroke:#666666;stroke-width:2.5px;stroke-linecap:butt;stroke-linejoin:miter;stroke-opacity:1\"/>\n",
       "<path d=\"M 250,133.908 L 260.331,127.944\" style=\"fill:none;fill-rule:evenodd;stroke:#7FC97F;stroke-width:2.5px;stroke-linecap:butt;stroke-linejoin:miter;stroke-opacity:1\"/>\n",
       "<path d=\"M 260.331,127.944 L 270.661,133.908\" style=\"fill:none;fill-rule:evenodd;stroke:#7FC97F;stroke-width:2.5px;stroke-linecap:butt;stroke-linejoin:miter;stroke-opacity:1\"/>\n",
       "<path d=\"M 270.661,133.908 L 280.992,127.944\" style=\"fill:none;fill-rule:evenodd;stroke:#7FC97F;stroke-width:2.5px;stroke-linecap:butt;stroke-linejoin:miter;stroke-opacity:1\"/>\n",
       "<path d=\"M 280.992,127.944 L 280.992,116.015\" style=\"fill:none;fill-rule:evenodd;stroke:#666666;stroke-width:2.5px;stroke-linecap:butt;stroke-linejoin:miter;stroke-opacity:1\"/>\n",
       "<path d=\"M 280.992,127.944 L 291.322,133.908\" style=\"fill:none;fill-rule:evenodd;stroke:#666666;stroke-width:2.5px;stroke-linecap:butt;stroke-linejoin:miter;stroke-opacity:1\"/>\n",
       "<path d=\"M 291.322,133.908 L 301.653,127.944\" style=\"fill:none;fill-rule:evenodd;stroke:#666666;stroke-width:2.5px;stroke-linecap:butt;stroke-linejoin:miter;stroke-opacity:1\"/>\n",
       "<path d=\"M 301.653,127.944 L 311.983,133.908\" style=\"fill:none;fill-rule:evenodd;stroke:#7FC97F;stroke-width:2.5px;stroke-linecap:butt;stroke-linejoin:miter;stroke-opacity:1\"/>\n",
       "<path d=\"M 311.983,133.908 L 322.314,127.944\" style=\"fill:none;fill-rule:evenodd;stroke:#7FC97F;stroke-width:2.5px;stroke-linecap:butt;stroke-linejoin:miter;stroke-opacity:1\"/>\n",
       "<path d=\"M 322.314,127.944 L 332.645,133.908\" style=\"fill:none;fill-rule:evenodd;stroke:#7FC97F;stroke-width:2.5px;stroke-linecap:butt;stroke-linejoin:miter;stroke-opacity:1\"/>\n",
       "<path d=\"M 332.645,133.908 L 342.975,127.944\" style=\"fill:none;fill-rule:evenodd;stroke:#7FC97F;stroke-width:2.5px;stroke-linecap:butt;stroke-linejoin:miter;stroke-opacity:1\"/>\n",
       "<path d=\"M 342.975,127.944 L 353.306,133.908\" style=\"fill:none;fill-rule:evenodd;stroke:#7FC97F;stroke-width:2.5px;stroke-linecap:butt;stroke-linejoin:miter;stroke-opacity:1\"/>\n",
       "<path d=\"M 353.306,133.908 L 363.636,127.944\" style=\"fill:none;fill-rule:evenodd;stroke:#7FC97F;stroke-width:2.5px;stroke-linecap:butt;stroke-linejoin:miter;stroke-opacity:1\"/>\n",
       "<path d=\"M 363.636,127.944 L 373.967,133.908\" style=\"fill:none;fill-rule:evenodd;stroke:#7FC97F;stroke-width:2.5px;stroke-linecap:butt;stroke-linejoin:miter;stroke-opacity:1\"/>\n",
       "<path d=\"M 373.967,133.908 L 384.298,127.944\" style=\"fill:none;fill-rule:evenodd;stroke:#7FC97F;stroke-width:2.5px;stroke-linecap:butt;stroke-linejoin:miter;stroke-opacity:1\"/>\n",
       "<path d=\"M 384.298,127.944 L 394.628,133.908\" style=\"fill:none;fill-rule:evenodd;stroke:#7FC97F;stroke-width:2.5px;stroke-linecap:butt;stroke-linejoin:miter;stroke-opacity:1\"/>\n",
       "<path d=\"M 394.628,133.908 L 404.959,127.944\" style=\"fill:none;fill-rule:evenodd;stroke:#666666;stroke-width:2.5px;stroke-linecap:butt;stroke-linejoin:miter;stroke-opacity:1\"/>\n",
       "<path d=\"M 404.959,127.944 L 415.289,133.908\" style=\"fill:none;fill-rule:evenodd;stroke:#666666;stroke-width:2.5px;stroke-linecap:butt;stroke-linejoin:miter;stroke-opacity:1\"/>\n",
       "<path d=\"M 415.289,133.908 L 425.62,127.944\" style=\"fill:none;fill-rule:evenodd;stroke:#7FC97F;stroke-width:2.5px;stroke-linecap:butt;stroke-linejoin:miter;stroke-opacity:1\"/>\n",
       "<path d=\"M 425.62,127.944 L 435.95,133.908\" style=\"fill:none;fill-rule:evenodd;stroke:#7FC97F;stroke-width:2.5px;stroke-linecap:butt;stroke-linejoin:miter;stroke-opacity:1\"/>\n",
       "<path d=\"M 435.95,133.908 L 446.281,127.944\" style=\"fill:none;fill-rule:evenodd;stroke:#7FC97F;stroke-width:2.5px;stroke-linecap:butt;stroke-linejoin:miter;stroke-opacity:1\"/>\n",
       "<path d=\"M 446.281,127.944 L 456.612,133.908\" style=\"fill:none;fill-rule:evenodd;stroke:#666666;stroke-width:2.5px;stroke-linecap:butt;stroke-linejoin:miter;stroke-opacity:1\"/>\n",
       "<path d=\"M 456.612,133.908 L 466.942,127.944\" style=\"fill:none;fill-rule:evenodd;stroke:#7FC97F;stroke-width:2.5px;stroke-linecap:butt;stroke-linejoin:miter;stroke-opacity:1\"/>\n",
       "<path d=\"M 466.942,127.944 L 477.273,133.908\" style=\"fill:none;fill-rule:evenodd;stroke:#666666;stroke-width:2.5px;stroke-linecap:butt;stroke-linejoin:miter;stroke-opacity:1\"/>\n",
       "<path class=\"bond-0\" d=\"M 22.7273,133.908 L 33.0579,127.944\" style=\"fill:none;fill-rule:evenodd;stroke:#000000;stroke-width:2.0px;stroke-linecap:butt;stroke-linejoin:miter;stroke-opacity:1\"/>\n",
       "<path class=\"bond-1\" d=\"M 33.0579,127.944 L 43.3884,133.908\" style=\"fill:none;fill-rule:evenodd;stroke:#000000;stroke-width:2.0px;stroke-linecap:butt;stroke-linejoin:miter;stroke-opacity:1\"/>\n",
       "<path class=\"bond-2\" d=\"M 43.3884,133.908 L 53.719,127.944\" style=\"fill:none;fill-rule:evenodd;stroke:#000000;stroke-width:2.0px;stroke-linecap:butt;stroke-linejoin:miter;stroke-opacity:1\"/>\n",
       "<path class=\"bond-3\" d=\"M 53.719,127.944 L 64.0496,133.908\" style=\"fill:none;fill-rule:evenodd;stroke:#000000;stroke-width:2.0px;stroke-linecap:butt;stroke-linejoin:miter;stroke-opacity:1\"/>\n",
       "<path class=\"bond-4\" d=\"M 64.0496,133.908 L 74.3802,127.944\" style=\"fill:none;fill-rule:evenodd;stroke:#000000;stroke-width:2.0px;stroke-linecap:butt;stroke-linejoin:miter;stroke-opacity:1\"/>\n",
       "<path class=\"bond-5\" d=\"M 74.3802,127.944 L 84.7107,133.908\" style=\"fill:none;fill-rule:evenodd;stroke:#000000;stroke-width:2.0px;stroke-linecap:butt;stroke-linejoin:miter;stroke-opacity:1\"/>\n",
       "<path class=\"bond-6\" d=\"M 84.7107,133.908 L 95.0413,127.944\" style=\"fill:none;fill-rule:evenodd;stroke:#000000;stroke-width:2.0px;stroke-linecap:butt;stroke-linejoin:miter;stroke-opacity:1\"/>\n",
       "<path class=\"bond-7\" d=\"M 95.0413,127.944 L 105.372,133.908\" style=\"fill:none;fill-rule:evenodd;stroke:#000000;stroke-width:2.0px;stroke-linecap:butt;stroke-linejoin:miter;stroke-opacity:1\"/>\n",
       "<path class=\"bond-8\" d=\"M 105.372,133.908 L 115.702,127.944\" style=\"fill:none;fill-rule:evenodd;stroke:#000000;stroke-width:2.0px;stroke-linecap:butt;stroke-linejoin:miter;stroke-opacity:1\"/>\n",
       "<path class=\"bond-9\" d=\"M 115.702,127.944 L 126.033,133.908\" style=\"fill:none;fill-rule:evenodd;stroke:#000000;stroke-width:2.0px;stroke-linecap:butt;stroke-linejoin:miter;stroke-opacity:1\"/>\n",
       "<path class=\"bond-10\" d=\"M 126.033,133.908 L 136.364,127.944\" style=\"fill:none;fill-rule:evenodd;stroke:#000000;stroke-width:2.0px;stroke-linecap:butt;stroke-linejoin:miter;stroke-opacity:1\"/>\n",
       "<path class=\"bond-11\" d=\"M 136.364,127.944 L 146.694,133.908\" style=\"fill:none;fill-rule:evenodd;stroke:#000000;stroke-width:2.0px;stroke-linecap:butt;stroke-linejoin:miter;stroke-opacity:1\"/>\n",
       "<path class=\"bond-12\" d=\"M 146.694,133.908 L 157.025,127.944\" style=\"fill:none;fill-rule:evenodd;stroke:#000000;stroke-width:2.0px;stroke-linecap:butt;stroke-linejoin:miter;stroke-opacity:1\"/>\n",
       "<path class=\"bond-13\" d=\"M 157.025,127.944 L 167.355,133.908\" style=\"fill:none;fill-rule:evenodd;stroke:#000000;stroke-width:2.0px;stroke-linecap:butt;stroke-linejoin:miter;stroke-opacity:1\"/>\n",
       "<path class=\"bond-14\" d=\"M 167.355,133.908 L 177.686,127.944\" style=\"fill:none;fill-rule:evenodd;stroke:#000000;stroke-width:2.0px;stroke-linecap:butt;stroke-linejoin:miter;stroke-opacity:1\"/>\n",
       "<path class=\"bond-15\" d=\"M 177.686,127.944 L 188.017,133.908\" style=\"fill:none;fill-rule:evenodd;stroke:#000000;stroke-width:2.0px;stroke-linecap:butt;stroke-linejoin:miter;stroke-opacity:1\"/>\n",
       "<path class=\"bond-16\" d=\"M 188.017,133.908 L 198.347,127.944\" style=\"fill:none;fill-rule:evenodd;stroke:#000000;stroke-width:2.0px;stroke-linecap:butt;stroke-linejoin:miter;stroke-opacity:1\"/>\n",
       "<path class=\"bond-17\" d=\"M 198.347,127.944 L 202.388,130.277\" style=\"fill:none;fill-rule:evenodd;stroke:#000000;stroke-width:2.0px;stroke-linecap:butt;stroke-linejoin:miter;stroke-opacity:1\"/>\n",
       "<path class=\"bond-17\" d=\"M 202.388,130.277 L 206.429,132.61\" style=\"fill:none;fill-rule:evenodd;stroke:#FF0000;stroke-width:2.0px;stroke-linecap:butt;stroke-linejoin:miter;stroke-opacity:1\"/>\n",
       "<path class=\"bond-18\" d=\"M 210.926,132.61 L 214.967,130.277\" style=\"fill:none;fill-rule:evenodd;stroke:#FF0000;stroke-width:2.0px;stroke-linecap:butt;stroke-linejoin:miter;stroke-opacity:1\"/>\n",
       "<path class=\"bond-18\" d=\"M 214.967,130.277 L 219.008,127.944\" style=\"fill:none;fill-rule:evenodd;stroke:#000000;stroke-width:2.0px;stroke-linecap:butt;stroke-linejoin:miter;stroke-opacity:1\"/>\n",
       "<path class=\"bond-19\" d=\"M 220.201,127.944 L 220.201,123.236\" style=\"fill:none;fill-rule:evenodd;stroke:#000000;stroke-width:2.0px;stroke-linecap:butt;stroke-linejoin:miter;stroke-opacity:1\"/>\n",
       "<path class=\"bond-19\" d=\"M 220.201,123.236 L 220.201,118.527\" style=\"fill:none;fill-rule:evenodd;stroke:#FF0000;stroke-width:2.0px;stroke-linecap:butt;stroke-linejoin:miter;stroke-opacity:1\"/>\n",
       "<path class=\"bond-19\" d=\"M 217.815,127.944 L 217.815,123.236\" style=\"fill:none;fill-rule:evenodd;stroke:#000000;stroke-width:2.0px;stroke-linecap:butt;stroke-linejoin:miter;stroke-opacity:1\"/>\n",
       "<path class=\"bond-19\" d=\"M 217.815,123.236 L 217.815,118.527\" style=\"fill:none;fill-rule:evenodd;stroke:#FF0000;stroke-width:2.0px;stroke-linecap:butt;stroke-linejoin:miter;stroke-opacity:1\"/>\n",
       "<path class=\"bond-20\" d=\"M 219.008,127.944 L 229.339,133.908\" style=\"fill:none;fill-rule:evenodd;stroke:#000000;stroke-width:2.0px;stroke-linecap:butt;stroke-linejoin:miter;stroke-opacity:1\"/>\n",
       "<path class=\"bond-21\" d=\"M 229.339,133.908 L 239.669,127.944\" style=\"fill:none;fill-rule:evenodd;stroke:#000000;stroke-width:2.0px;stroke-linecap:butt;stroke-linejoin:miter;stroke-opacity:1\"/>\n",
       "<path class=\"bond-22\" d=\"M 239.669,127.944 L 244.005,130.447\" style=\"fill:none;fill-rule:evenodd;stroke:#000000;stroke-width:2.0px;stroke-linecap:butt;stroke-linejoin:miter;stroke-opacity:1\"/>\n",
       "<path class=\"bond-22\" d=\"M 244.005,130.447 L 248.34,132.95\" style=\"fill:none;fill-rule:evenodd;stroke:#CCCC00;stroke-width:2.0px;stroke-linecap:butt;stroke-linejoin:miter;stroke-opacity:1\"/>\n",
       "<path class=\"bond-23\" d=\"M 251.66,132.95 L 255.995,130.447\" style=\"fill:none;fill-rule:evenodd;stroke:#CCCC00;stroke-width:2.0px;stroke-linecap:butt;stroke-linejoin:miter;stroke-opacity:1\"/>\n",
       "<path class=\"bond-23\" d=\"M 255.995,130.447 L 260.331,127.944\" style=\"fill:none;fill-rule:evenodd;stroke:#000000;stroke-width:2.0px;stroke-linecap:butt;stroke-linejoin:miter;stroke-opacity:1\"/>\n",
       "<path class=\"bond-24\" d=\"M 260.331,127.944 L 270.661,133.908\" style=\"fill:none;fill-rule:evenodd;stroke:#000000;stroke-width:2.0px;stroke-linecap:butt;stroke-linejoin:miter;stroke-opacity:1\"/>\n",
       "<path class=\"bond-25\" d=\"M 270.661,133.908 L 280.992,127.944\" style=\"fill:none;fill-rule:evenodd;stroke:#000000;stroke-width:2.0px;stroke-linecap:butt;stroke-linejoin:miter;stroke-opacity:1\"/>\n",
       "<path class=\"bond-26\" d=\"M 282.185,127.944 L 282.185,123.236\" style=\"fill:none;fill-rule:evenodd;stroke:#000000;stroke-width:2.0px;stroke-linecap:butt;stroke-linejoin:miter;stroke-opacity:1\"/>\n",
       "<path class=\"bond-26\" d=\"M 282.185,123.236 L 282.185,118.527\" style=\"fill:none;fill-rule:evenodd;stroke:#FF0000;stroke-width:2.0px;stroke-linecap:butt;stroke-linejoin:miter;stroke-opacity:1\"/>\n",
       "<path class=\"bond-26\" d=\"M 279.799,127.944 L 279.799,123.236\" style=\"fill:none;fill-rule:evenodd;stroke:#000000;stroke-width:2.0px;stroke-linecap:butt;stroke-linejoin:miter;stroke-opacity:1\"/>\n",
       "<path class=\"bond-26\" d=\"M 279.799,123.236 L 279.799,118.527\" style=\"fill:none;fill-rule:evenodd;stroke:#FF0000;stroke-width:2.0px;stroke-linecap:butt;stroke-linejoin:miter;stroke-opacity:1\"/>\n",
       "<path class=\"bond-27\" d=\"M 280.992,127.944 L 285.033,130.277\" style=\"fill:none;fill-rule:evenodd;stroke:#000000;stroke-width:2.0px;stroke-linecap:butt;stroke-linejoin:miter;stroke-opacity:1\"/>\n",
       "<path class=\"bond-27\" d=\"M 285.033,130.277 L 289.074,132.61\" style=\"fill:none;fill-rule:evenodd;stroke:#FF0000;stroke-width:2.0px;stroke-linecap:butt;stroke-linejoin:miter;stroke-opacity:1\"/>\n",
       "<path class=\"bond-28\" d=\"M 293.571,132.61 L 297.612,130.277\" style=\"fill:none;fill-rule:evenodd;stroke:#FF0000;stroke-width:2.0px;stroke-linecap:butt;stroke-linejoin:miter;stroke-opacity:1\"/>\n",
       "<path class=\"bond-28\" d=\"M 297.612,130.277 L 301.653,127.944\" style=\"fill:none;fill-rule:evenodd;stroke:#000000;stroke-width:2.0px;stroke-linecap:butt;stroke-linejoin:miter;stroke-opacity:1\"/>\n",
       "<path class=\"bond-29\" d=\"M 301.653,127.944 L 311.983,133.908\" style=\"fill:none;fill-rule:evenodd;stroke:#000000;stroke-width:2.0px;stroke-linecap:butt;stroke-linejoin:miter;stroke-opacity:1\"/>\n",
       "<path class=\"bond-30\" d=\"M 311.983,133.908 L 322.314,127.944\" style=\"fill:none;fill-rule:evenodd;stroke:#000000;stroke-width:2.0px;stroke-linecap:butt;stroke-linejoin:miter;stroke-opacity:1\"/>\n",
       "<path class=\"bond-31\" d=\"M 322.314,127.944 L 332.645,133.908\" style=\"fill:none;fill-rule:evenodd;stroke:#000000;stroke-width:2.0px;stroke-linecap:butt;stroke-linejoin:miter;stroke-opacity:1\"/>\n",
       "<path class=\"bond-32\" d=\"M 332.645,133.908 L 342.975,127.944\" style=\"fill:none;fill-rule:evenodd;stroke:#000000;stroke-width:2.0px;stroke-linecap:butt;stroke-linejoin:miter;stroke-opacity:1\"/>\n",
       "<path class=\"bond-33\" d=\"M 342.975,127.944 L 353.306,133.908\" style=\"fill:none;fill-rule:evenodd;stroke:#000000;stroke-width:2.0px;stroke-linecap:butt;stroke-linejoin:miter;stroke-opacity:1\"/>\n",
       "<path class=\"bond-34\" d=\"M 353.306,133.908 L 363.636,127.944\" style=\"fill:none;fill-rule:evenodd;stroke:#000000;stroke-width:2.0px;stroke-linecap:butt;stroke-linejoin:miter;stroke-opacity:1\"/>\n",
       "<path class=\"bond-35\" d=\"M 363.636,127.944 L 373.967,133.908\" style=\"fill:none;fill-rule:evenodd;stroke:#000000;stroke-width:2.0px;stroke-linecap:butt;stroke-linejoin:miter;stroke-opacity:1\"/>\n",
       "<path class=\"bond-36\" d=\"M 373.967,133.908 L 384.298,127.944\" style=\"fill:none;fill-rule:evenodd;stroke:#000000;stroke-width:2.0px;stroke-linecap:butt;stroke-linejoin:miter;stroke-opacity:1\"/>\n",
       "<path class=\"bond-37\" d=\"M 384.298,127.944 L 394.628,133.908\" style=\"fill:none;fill-rule:evenodd;stroke:#000000;stroke-width:2.0px;stroke-linecap:butt;stroke-linejoin:miter;stroke-opacity:1\"/>\n",
       "<path class=\"bond-38\" d=\"M 394.628,133.908 L 404.959,127.944\" style=\"fill:none;fill-rule:evenodd;stroke:#000000;stroke-width:2.0px;stroke-linecap:butt;stroke-linejoin:miter;stroke-opacity:1\"/>\n",
       "<path class=\"bond-39\" d=\"M 404.959,127.944 L 415.289,133.908\" style=\"fill:none;fill-rule:evenodd;stroke:#000000;stroke-width:2.0px;stroke-linecap:butt;stroke-linejoin:miter;stroke-opacity:1\"/>\n",
       "<path class=\"bond-40\" d=\"M 415.289,133.908 L 425.62,127.944\" style=\"fill:none;fill-rule:evenodd;stroke:#000000;stroke-width:2.0px;stroke-linecap:butt;stroke-linejoin:miter;stroke-opacity:1\"/>\n",
       "<path class=\"bond-41\" d=\"M 425.62,127.944 L 435.95,133.908\" style=\"fill:none;fill-rule:evenodd;stroke:#000000;stroke-width:2.0px;stroke-linecap:butt;stroke-linejoin:miter;stroke-opacity:1\"/>\n",
       "<path class=\"bond-42\" d=\"M 435.95,133.908 L 446.281,127.944\" style=\"fill:none;fill-rule:evenodd;stroke:#000000;stroke-width:2.0px;stroke-linecap:butt;stroke-linejoin:miter;stroke-opacity:1\"/>\n",
       "<path class=\"bond-43\" d=\"M 446.281,127.944 L 456.612,133.908\" style=\"fill:none;fill-rule:evenodd;stroke:#000000;stroke-width:2.0px;stroke-linecap:butt;stroke-linejoin:miter;stroke-opacity:1\"/>\n",
       "<path class=\"bond-44\" d=\"M 456.612,133.908 L 466.942,127.944\" style=\"fill:none;fill-rule:evenodd;stroke:#000000;stroke-width:2.0px;stroke-linecap:butt;stroke-linejoin:miter;stroke-opacity:1\"/>\n",
       "<path class=\"bond-45\" d=\"M 466.942,127.944 L 477.273,133.908\" style=\"fill:none;fill-rule:evenodd;stroke:#000000;stroke-width:2.0px;stroke-linecap:butt;stroke-linejoin:miter;stroke-opacity:1\"/>\n",
       "<path class=\"atom-18\" d=\"M 206.728 133.92 Q 206.728 132.9, 207.232 132.33 Q 207.736 131.76, 208.678 131.76 Q 209.62 131.76, 210.124 132.33 Q 210.628 132.9, 210.628 133.92 Q 210.628 134.952, 210.118 135.54 Q 209.608 136.122, 208.678 136.122 Q 207.742 136.122, 207.232 135.54 Q 206.728 134.958, 206.728 133.92 M 208.678 135.642 Q 209.326 135.642, 209.674 135.21 Q 210.028 134.772, 210.028 133.92 Q 210.028 133.086, 209.674 132.666 Q 209.326 132.24, 208.678 132.24 Q 208.03 132.24, 207.676 132.66 Q 207.328 133.08, 207.328 133.92 Q 207.328 134.778, 207.676 135.21 Q 208.03 135.642, 208.678 135.642 \" fill=\"#FF0000\"/>\n",
       "<path class=\"atom-20\" d=\"M 217.058 116.027 Q 217.058 115.007, 217.562 114.437 Q 218.066 113.867, 219.008 113.867 Q 219.95 113.867, 220.454 114.437 Q 220.958 115.007, 220.958 116.027 Q 220.958 117.059, 220.448 117.647 Q 219.938 118.229, 219.008 118.229 Q 218.072 118.229, 217.562 117.647 Q 217.058 117.065, 217.058 116.027 M 219.008 117.749 Q 219.656 117.749, 220.004 117.317 Q 220.358 116.879, 220.358 116.027 Q 220.358 115.193, 220.004 114.773 Q 219.656 114.347, 219.008 114.347 Q 218.36 114.347, 218.006 114.767 Q 217.658 115.187, 217.658 116.027 Q 217.658 116.885, 218.006 117.317 Q 218.36 117.749, 219.008 117.749 \" fill=\"#FF0000\"/>\n",
       "<path class=\"atom-23\" d=\"M 248.8 135.366 Q 248.848 135.384, 249.046 135.468 Q 249.244 135.552, 249.46 135.606 Q 249.682 135.654, 249.898 135.654 Q 250.3 135.654, 250.534 135.462 Q 250.768 135.264, 250.768 134.922 Q 250.768 134.688, 250.648 134.544 Q 250.534 134.4, 250.354 134.322 Q 250.174 134.244, 249.874 134.154 Q 249.496 134.04, 249.268 133.932 Q 249.046 133.824, 248.884 133.596 Q 248.728 133.368, 248.728 132.984 Q 248.728 132.45, 249.088 132.12 Q 249.454 131.79, 250.174 131.79 Q 250.666 131.79, 251.224 132.024 L 251.086 132.486 Q 250.576 132.276, 250.192 132.276 Q 249.778 132.276, 249.55 132.45 Q 249.322 132.618, 249.328 132.912 Q 249.328 133.14, 249.442 133.278 Q 249.562 133.416, 249.73 133.494 Q 249.904 133.572, 250.192 133.662 Q 250.576 133.782, 250.804 133.902 Q 251.032 134.022, 251.194 134.268 Q 251.362 134.508, 251.362 134.922 Q 251.362 135.51, 250.966 135.828 Q 250.576 136.14, 249.922 136.14 Q 249.544 136.14, 249.256 136.056 Q 248.974 135.978, 248.638 135.84 L 248.8 135.366 \" fill=\"#CCCC00\"/>\n",
       "<path class=\"atom-27\" d=\"M 279.042 116.027 Q 279.042 115.007, 279.546 114.437 Q 280.05 113.867, 280.992 113.867 Q 281.934 113.867, 282.438 114.437 Q 282.942 115.007, 282.942 116.027 Q 282.942 117.059, 282.432 117.647 Q 281.922 118.229, 280.992 118.229 Q 280.056 118.229, 279.546 117.647 Q 279.042 117.065, 279.042 116.027 M 280.992 117.749 Q 281.64 117.749, 281.988 117.317 Q 282.342 116.879, 282.342 116.027 Q 282.342 115.193, 281.988 114.773 Q 281.64 114.347, 280.992 114.347 Q 280.344 114.347, 279.99 114.767 Q 279.642 115.187, 279.642 116.027 Q 279.642 116.885, 279.99 117.317 Q 280.344 117.749, 280.992 117.749 \" fill=\"#FF0000\"/>\n",
       "<path class=\"atom-28\" d=\"M 289.372 133.92 Q 289.372 132.9, 289.876 132.33 Q 290.38 131.76, 291.322 131.76 Q 292.264 131.76, 292.768 132.33 Q 293.272 132.9, 293.272 133.92 Q 293.272 134.952, 292.762 135.54 Q 292.252 136.122, 291.322 136.122 Q 290.386 136.122, 289.876 135.54 Q 289.372 134.958, 289.372 133.92 M 291.322 135.642 Q 291.97 135.642, 292.318 135.21 Q 292.672 134.772, 292.672 133.92 Q 292.672 133.086, 292.318 132.666 Q 291.97 132.24, 291.322 132.24 Q 290.674 132.24, 290.32 132.66 Q 289.972 133.08, 289.972 133.92 Q 289.972 134.778, 290.32 135.21 Q 290.674 135.642, 291.322 135.642 \" fill=\"#FF0000\"/>\n",
       "</svg>"
      ],
      "text/plain": [
       "<IPython.core.display.SVG object>"
      ]
     },
     "metadata": {},
     "output_type": "display_data"
    },
    {
     "data": {
      "image/svg+xml": [
       "<svg baseProfile=\"full\" height=\"250px\" version=\"1.1\" viewBox=\"0 0 500 250\" width=\"500px\" xml:space=\"preserve\" xmlns=\"http://www.w3.org/2000/svg\" xmlns:rdkit=\"http://www.rdkit.org/xml\" xmlns:xlink=\"http://www.w3.org/1999/xlink\">\n",
       "<!-- END OF HEADER -->\n",
       "<rect height=\"250\" style=\"opacity:1.0;fill:#FFFFFF;stroke:none\" width=\"500\" x=\"0\" y=\"0\"> </rect>\n",
       "<path d=\"M 22.7273,179.373 L 117.596,136.032\" style=\"fill:none;fill-rule:evenodd;stroke:#666666;stroke-width:22.3px;stroke-linecap:butt;stroke-linejoin:miter;stroke-opacity:1\"/>\n",
       "<path d=\"M 117.596,136.032 L 202.565,196.521\" style=\"fill:none;fill-rule:evenodd;stroke:#7FC97F;stroke-width:22.3px;stroke-linecap:butt;stroke-linejoin:miter;stroke-opacity:1\"/>\n",
       "<path d=\"M 202.565,196.521 L 297.435,153.18\" style=\"fill:none;fill-rule:evenodd;stroke:#7FC97F;stroke-width:22.3px;stroke-linecap:butt;stroke-linejoin:miter;stroke-opacity:1\"/>\n",
       "<path d=\"M 297.435,153.18 L 307.335,49.35\" style=\"fill:none;fill-rule:evenodd;stroke:#666666;stroke-width:22.3px;stroke-linecap:butt;stroke-linejoin:miter;stroke-opacity:1\"/>\n",
       "<path d=\"M 297.435,153.18 L 382.404,213.668\" style=\"fill:none;fill-rule:evenodd;stroke:#7FC97F;stroke-width:22.3px;stroke-linecap:butt;stroke-linejoin:miter;stroke-opacity:1\"/>\n",
       "<path d=\"M 382.404,213.668 L 477.273,170.327\" style=\"fill:none;fill-rule:evenodd;stroke:#666666;stroke-width:22.3px;stroke-linecap:butt;stroke-linejoin:miter;stroke-opacity:1\"/>\n",
       "<path class=\"bond-0\" d=\"M 22.7273,179.373 L 117.596,136.032\" style=\"fill:none;fill-rule:evenodd;stroke:#000000;stroke-width:2.0px;stroke-linecap:butt;stroke-linejoin:miter;stroke-opacity:1\"/>\n",
       "<path class=\"bond-1\" d=\"M 117.596,136.032 L 152.277,160.721\" style=\"fill:none;fill-rule:evenodd;stroke:#000000;stroke-width:2.0px;stroke-linecap:butt;stroke-linejoin:miter;stroke-opacity:1\"/>\n",
       "<path class=\"bond-1\" d=\"M 152.277,160.721 L 186.958,185.41\" style=\"fill:none;fill-rule:evenodd;stroke:#FF0000;stroke-width:2.0px;stroke-linecap:butt;stroke-linejoin:miter;stroke-opacity:1\"/>\n",
       "<path class=\"bond-2\" d=\"M 218.173,189.39 L 257.804,171.285\" style=\"fill:none;fill-rule:evenodd;stroke:#FF0000;stroke-width:2.0px;stroke-linecap:butt;stroke-linejoin:miter;stroke-opacity:1\"/>\n",
       "<path class=\"bond-2\" d=\"M 257.804,171.285 L 297.435,153.18\" style=\"fill:none;fill-rule:evenodd;stroke:#000000;stroke-width:2.0px;stroke-linecap:butt;stroke-linejoin:miter;stroke-opacity:1\"/>\n",
       "<path class=\"bond-3\" d=\"M 307.818,154.17 L 311.94,110.939\" style=\"fill:none;fill-rule:evenodd;stroke:#000000;stroke-width:2.0px;stroke-linecap:butt;stroke-linejoin:miter;stroke-opacity:1\"/>\n",
       "<path class=\"bond-3\" d=\"M 311.94,110.939 L 316.062,67.7075\" style=\"fill:none;fill-rule:evenodd;stroke:#FF0000;stroke-width:2.0px;stroke-linecap:butt;stroke-linejoin:miter;stroke-opacity:1\"/>\n",
       "<path class=\"bond-3\" d=\"M 287.052,152.19 L 291.174,108.959\" style=\"fill:none;fill-rule:evenodd;stroke:#000000;stroke-width:2.0px;stroke-linecap:butt;stroke-linejoin:miter;stroke-opacity:1\"/>\n",
       "<path class=\"bond-3\" d=\"M 291.174,108.959 L 295.296,65.7275\" style=\"fill:none;fill-rule:evenodd;stroke:#FF0000;stroke-width:2.0px;stroke-linecap:butt;stroke-linejoin:miter;stroke-opacity:1\"/>\n",
       "<path class=\"bond-4\" d=\"M 297.435,153.18 L 382.404,213.668\" style=\"fill:none;fill-rule:evenodd;stroke:#000000;stroke-width:2.0px;stroke-linecap:butt;stroke-linejoin:miter;stroke-opacity:1\"/>\n",
       "<path class=\"bond-5\" d=\"M 386.738,223.155 L 481.607,179.814\" style=\"fill:none;fill-rule:evenodd;stroke:#000000;stroke-width:2.0px;stroke-linecap:butt;stroke-linejoin:miter;stroke-opacity:1\"/>\n",
       "<path class=\"bond-5\" d=\"M 378.069,204.181 L 472.939,160.84\" style=\"fill:none;fill-rule:evenodd;stroke:#000000;stroke-width:2.0px;stroke-linecap:butt;stroke-linejoin:miter;stroke-opacity:1\"/>\n",
       "<path class=\"atom-2\" d=\"M 189.565 196.601 Q 189.565 189.801, 192.925 186.001 Q 196.285 182.201, 202.565 182.201 Q 208.845 182.201, 212.205 186.001 Q 215.565 189.801, 215.565 196.601 Q 215.565 203.481, 212.165 207.401 Q 208.765 211.281, 202.565 211.281 Q 196.325 211.281, 192.925 207.401 Q 189.565 203.521, 189.565 196.601 M 202.565 208.081 Q 206.885 208.081, 209.205 205.201 Q 211.565 202.281, 211.565 196.601 Q 211.565 191.041, 209.205 188.241 Q 206.885 185.401, 202.565 185.401 Q 198.245 185.401, 195.885 188.201 Q 193.565 191.001, 193.565 196.601 Q 193.565 202.321, 195.885 205.201 Q 198.245 208.081, 202.565 208.081 \" fill=\"#FF0000\"/>\n",
       "<path class=\"atom-4\" d=\"M 294.335 49.43 Q 294.335 42.63, 297.695 38.83 Q 301.055 35.03, 307.335 35.03 Q 313.615 35.03, 316.975 38.83 Q 320.335 42.63, 320.335 49.43 Q 320.335 56.31, 316.935 60.23 Q 313.535 64.11, 307.335 64.11 Q 301.095 64.11, 297.695 60.23 Q 294.335 56.35, 294.335 49.43 M 307.335 60.91 Q 311.655 60.91, 313.975 58.03 Q 316.335 55.11, 316.335 49.43 Q 316.335 43.87, 313.975 41.07 Q 311.655 38.23, 307.335 38.23 Q 303.015 38.23, 300.655 41.03 Q 298.335 43.83, 298.335 49.43 Q 298.335 55.15, 300.655 58.03 Q 303.015 60.91, 307.335 60.91 \" fill=\"#FF0000\"/>\n",
       "</svg>"
      ],
      "text/plain": [
       "<IPython.core.display.SVG object>"
      ]
     },
     "metadata": {},
     "output_type": "display_data"
    },
    {
     "data": {
      "image/svg+xml": [
       "<svg baseProfile=\"full\" height=\"250px\" version=\"1.1\" viewBox=\"0 0 500 250\" width=\"500px\" xml:space=\"preserve\" xmlns=\"http://www.w3.org/2000/svg\" xmlns:rdkit=\"http://www.rdkit.org/xml\" xmlns:xlink=\"http://www.w3.org/1999/xlink\">\n",
       "<!-- END OF HEADER -->\n",
       "<rect height=\"250\" style=\"opacity:1.0;fill:#FFFFFF;stroke:none\" width=\"500\" x=\"0\" y=\"0\"> </rect>\n",
       "<path d=\"M 22.7273,145.823 L 64.9622,123.757\" style=\"fill:none;fill-rule:evenodd;stroke:#7FC97F;stroke-width:10.2px;stroke-linecap:butt;stroke-linejoin:miter;stroke-opacity:1\"/>\n",
       "<path d=\"M 64.9622,123.757 L 105.189,149.301\" style=\"fill:none;fill-rule:evenodd;stroke:#7FC97F;stroke-width:10.2px;stroke-linecap:butt;stroke-linejoin:miter;stroke-opacity:1\"/>\n",
       "<path d=\"M 105.189,149.301 L 147.424,127.235\" style=\"fill:none;fill-rule:evenodd;stroke:#7FC97F;stroke-width:10.2px;stroke-linecap:butt;stroke-linejoin:miter;stroke-opacity:1\"/>\n",
       "<path d=\"M 147.424,127.235 L 187.651,152.778\" style=\"fill:none;fill-rule:evenodd;stroke:#666666;stroke-width:10.2px;stroke-linecap:butt;stroke-linejoin:miter;stroke-opacity:1\"/>\n",
       "<path d=\"M 187.651,152.778 L 229.886,130.712\" style=\"fill:none;fill-rule:evenodd;stroke:#7FC97F;stroke-width:10.2px;stroke-linecap:butt;stroke-linejoin:miter;stroke-opacity:1\"/>\n",
       "<path d=\"M 229.886,130.712 L 270.114,156.256\" style=\"fill:none;fill-rule:evenodd;stroke:#7FC97F;stroke-width:10.2px;stroke-linecap:butt;stroke-linejoin:miter;stroke-opacity:1\"/>\n",
       "<path d=\"M 270.114,156.256 L 312.349,134.189\" style=\"fill:none;fill-rule:evenodd;stroke:#7FC97F;stroke-width:10.2px;stroke-linecap:butt;stroke-linejoin:miter;stroke-opacity:1\"/>\n",
       "<path d=\"M 312.349,134.189 L 352.576,159.733\" style=\"fill:none;fill-rule:evenodd;stroke:#666666;stroke-width:10.2px;stroke-linecap:butt;stroke-linejoin:miter;stroke-opacity:1\"/>\n",
       "<path d=\"M 352.576,159.733 L 394.811,137.667\" style=\"fill:none;fill-rule:evenodd;stroke:#7FC97F;stroke-width:10.2px;stroke-linecap:butt;stroke-linejoin:miter;stroke-opacity:1\"/>\n",
       "<path d=\"M 394.811,137.667 L 396.818,90.0574\" style=\"fill:none;fill-rule:evenodd;stroke:#666666;stroke-width:10.2px;stroke-linecap:butt;stroke-linejoin:miter;stroke-opacity:1\"/>\n",
       "<path d=\"M 394.811,137.667 L 435.038,163.21\" style=\"fill:none;fill-rule:evenodd;stroke:#7FC97F;stroke-width:10.2px;stroke-linecap:butt;stroke-linejoin:miter;stroke-opacity:1\"/>\n",
       "<path d=\"M 435.038,163.21 L 477.273,141.144\" style=\"fill:none;fill-rule:evenodd;stroke:#666666;stroke-width:10.2px;stroke-linecap:butt;stroke-linejoin:miter;stroke-opacity:1\"/>\n",
       "<path class=\"bond-0\" d=\"M 22.7273,145.823 L 64.9622,123.757\" style=\"fill:none;fill-rule:evenodd;stroke:#000000;stroke-width:2.0px;stroke-linecap:butt;stroke-linejoin:miter;stroke-opacity:1\"/>\n",
       "<path class=\"bond-1\" d=\"M 64.9622,123.757 L 105.189,149.301\" style=\"fill:none;fill-rule:evenodd;stroke:#000000;stroke-width:2.0px;stroke-linecap:butt;stroke-linejoin:miter;stroke-opacity:1\"/>\n",
       "<path class=\"bond-2\" d=\"M 105.189,149.301 L 147.424,127.235\" style=\"fill:none;fill-rule:evenodd;stroke:#000000;stroke-width:2.0px;stroke-linecap:butt;stroke-linejoin:miter;stroke-opacity:1\"/>\n",
       "<path class=\"bond-3\" d=\"M 147.424,127.235 L 187.651,152.778\" style=\"fill:none;fill-rule:evenodd;stroke:#000000;stroke-width:2.0px;stroke-linecap:butt;stroke-linejoin:miter;stroke-opacity:1\"/>\n",
       "<path class=\"bond-4\" d=\"M 187.651,152.778 L 229.886,130.712\" style=\"fill:none;fill-rule:evenodd;stroke:#000000;stroke-width:2.0px;stroke-linecap:butt;stroke-linejoin:miter;stroke-opacity:1\"/>\n",
       "<path class=\"bond-5\" d=\"M 229.886,130.712 L 270.114,156.256\" style=\"fill:none;fill-rule:evenodd;stroke:#000000;stroke-width:2.0px;stroke-linecap:butt;stroke-linejoin:miter;stroke-opacity:1\"/>\n",
       "<path class=\"bond-6\" d=\"M 270.114,156.256 L 312.349,134.189\" style=\"fill:none;fill-rule:evenodd;stroke:#000000;stroke-width:2.0px;stroke-linecap:butt;stroke-linejoin:miter;stroke-opacity:1\"/>\n",
       "<path class=\"bond-7\" d=\"M 312.349,134.189 L 328.769,144.616\" style=\"fill:none;fill-rule:evenodd;stroke:#000000;stroke-width:2.0px;stroke-linecap:butt;stroke-linejoin:miter;stroke-opacity:1\"/>\n",
       "<path class=\"bond-7\" d=\"M 328.769,144.616 L 345.19,155.043\" style=\"fill:none;fill-rule:evenodd;stroke:#FF0000;stroke-width:2.0px;stroke-linecap:butt;stroke-linejoin:miter;stroke-opacity:1\"/>\n",
       "<path class=\"bond-8\" d=\"M 359.962,155.874 L 377.386,146.77\" style=\"fill:none;fill-rule:evenodd;stroke:#FF0000;stroke-width:2.0px;stroke-linecap:butt;stroke-linejoin:miter;stroke-opacity:1\"/>\n",
       "<path class=\"bond-8\" d=\"M 377.386,146.77 L 394.811,137.667\" style=\"fill:none;fill-rule:evenodd;stroke:#000000;stroke-width:2.0px;stroke-linecap:butt;stroke-linejoin:miter;stroke-opacity:1\"/>\n",
       "<path class=\"bond-9\" d=\"M 399.572,137.868 L 400.402,118.175\" style=\"fill:none;fill-rule:evenodd;stroke:#000000;stroke-width:2.0px;stroke-linecap:butt;stroke-linejoin:miter;stroke-opacity:1\"/>\n",
       "<path class=\"bond-9\" d=\"M 400.402,118.175 L 401.232,98.4829\" style=\"fill:none;fill-rule:evenodd;stroke:#FF0000;stroke-width:2.0px;stroke-linecap:butt;stroke-linejoin:miter;stroke-opacity:1\"/>\n",
       "<path class=\"bond-9\" d=\"M 390.05,137.466 L 390.88,117.774\" style=\"fill:none;fill-rule:evenodd;stroke:#000000;stroke-width:2.0px;stroke-linecap:butt;stroke-linejoin:miter;stroke-opacity:1\"/>\n",
       "<path class=\"bond-9\" d=\"M 390.88,117.774 L 391.711,98.0813\" style=\"fill:none;fill-rule:evenodd;stroke:#FF0000;stroke-width:2.0px;stroke-linecap:butt;stroke-linejoin:miter;stroke-opacity:1\"/>\n",
       "<path class=\"bond-10\" d=\"M 394.811,137.667 L 435.038,163.21\" style=\"fill:none;fill-rule:evenodd;stroke:#000000;stroke-width:2.0px;stroke-linecap:butt;stroke-linejoin:miter;stroke-opacity:1\"/>\n",
       "<path class=\"bond-11\" d=\"M 437.244,167.434 L 479.479,145.368\" style=\"fill:none;fill-rule:evenodd;stroke:#000000;stroke-width:2.0px;stroke-linecap:butt;stroke-linejoin:miter;stroke-opacity:1\"/>\n",
       "<path class=\"bond-11\" d=\"M 432.831,158.987 L 475.066,136.921\" style=\"fill:none;fill-rule:evenodd;stroke:#000000;stroke-width:2.0px;stroke-linecap:butt;stroke-linejoin:miter;stroke-opacity:1\"/>\n",
       "<path class=\"atom-8\" d=\"M 346.381 159.771 Q 346.381 156.531, 347.982 154.72 Q 349.583 152.909, 352.576 152.909 Q 355.568 152.909, 357.169 154.72 Q 358.77 156.531, 358.77 159.771 Q 358.77 163.05, 357.15 164.917 Q 355.53 166.766, 352.576 166.766 Q 349.602 166.766, 347.982 164.917 Q 346.381 163.069, 346.381 159.771 M 352.576 165.242 Q 354.634 165.242, 355.74 163.869 Q 356.864 162.478, 356.864 159.771 Q 356.864 157.122, 355.74 155.787 Q 354.634 154.434, 352.576 154.434 Q 350.517 154.434, 349.393 155.768 Q 348.287 157.103, 348.287 159.771 Q 348.287 162.497, 349.393 163.869 Q 350.517 165.242, 352.576 165.242 \" fill=\"#FF0000\"/>\n",
       "<path class=\"atom-10\" d=\"M 390.624 90.0955 Q 390.624 86.8552, 392.225 85.0444 Q 393.826 83.2336, 396.818 83.2336 Q 399.811 83.2336, 401.412 85.0444 Q 403.013 86.8552, 403.013 90.0955 Q 403.013 93.3739, 401.393 95.2419 Q 399.773 97.0908, 396.818 97.0908 Q 393.845 97.0908, 392.225 95.2419 Q 390.624 93.393, 390.624 90.0955 M 396.818 95.5659 Q 398.877 95.5659, 399.982 94.1936 Q 401.107 92.8021, 401.107 90.0955 Q 401.107 87.4461, 399.982 86.1118 Q 398.877 84.7585, 396.818 84.7585 Q 394.76 84.7585, 393.635 86.0927 Q 392.53 87.427, 392.53 90.0955 Q 392.53 92.8212, 393.635 94.1936 Q 394.76 95.5659, 396.818 95.5659 \" fill=\"#FF0000\"/>\n",
       "</svg>"
      ],
      "text/plain": [
       "<IPython.core.display.SVG object>"
      ]
     },
     "metadata": {},
     "output_type": "display_data"
    },
    {
     "data": {
      "image/svg+xml": [
       "<svg baseProfile=\"full\" height=\"250px\" version=\"1.1\" viewBox=\"0 0 500 250\" width=\"500px\" xml:space=\"preserve\" xmlns=\"http://www.w3.org/2000/svg\" xmlns:rdkit=\"http://www.rdkit.org/xml\" xmlns:xlink=\"http://www.w3.org/1999/xlink\">\n",
       "<!-- END OF HEADER -->\n",
       "<rect height=\"250\" style=\"opacity:1.0;fill:#FFFFFF;stroke:none\" width=\"500\" x=\"0\" y=\"0\"> </rect>\n",
       "<path d=\"M 34.5439,178.354 L 150.966,140.526\" style=\"fill:none;fill-rule:evenodd;stroke:#666666;stroke-width:26.1px;stroke-linecap:butt;stroke-linejoin:miter;stroke-opacity:1\"/>\n",
       "<path d=\"M 150.966,140.526 L 250,212.479\" style=\"fill:none;fill-rule:evenodd;stroke:#666666;stroke-width:26.1px;stroke-linecap:butt;stroke-linejoin:miter;stroke-opacity:1\"/>\n",
       "<path d=\"M 150.966,140.526 L 188.793,24.1046\" style=\"fill:none;fill-rule:evenodd;stroke:#666666;stroke-width:26.1px;stroke-linecap:butt;stroke-linejoin:miter;stroke-opacity:1\"/>\n",
       "<path d=\"M 250,212.479 L 349.034,140.526\" style=\"fill:none;fill-rule:evenodd;stroke:#7FC97F;stroke-width:26.1px;stroke-linecap:butt;stroke-linejoin:miter;stroke-opacity:1\"/>\n",
       "<path d=\"M 349.034,140.526 L 465.456,178.354\" style=\"fill:none;fill-rule:evenodd;stroke:#666666;stroke-width:26.1px;stroke-linecap:butt;stroke-linejoin:miter;stroke-opacity:1\"/>\n",
       "<path d=\"M 349.034,140.526 L 311.207,24.1046\" style=\"fill:none;fill-rule:evenodd;stroke:#666666;stroke-width:26.1px;stroke-linecap:butt;stroke-linejoin:miter;stroke-opacity:1\"/>\n",
       "<path d=\"M 311.207,24.1046 L 188.793,24.1046\" style=\"fill:none;fill-rule:evenodd;stroke:#7FC97F;stroke-width:26.1px;stroke-linecap:butt;stroke-linejoin:miter;stroke-opacity:1\"/>\n",
       "<path class=\"bond-0\" d=\"M 54.387,184.778 L 104.568,168.473\" style=\"fill:none;fill-rule:evenodd;stroke:#FF0000;stroke-width:2.0px;stroke-linecap:butt;stroke-linejoin:miter;stroke-opacity:1\"/>\n",
       "<path class=\"bond-0\" d=\"M 104.568,168.473 L 154.748,152.169\" style=\"fill:none;fill-rule:evenodd;stroke:#000000;stroke-width:2.0px;stroke-linecap:butt;stroke-linejoin:miter;stroke-opacity:1\"/>\n",
       "<path class=\"bond-0\" d=\"M 46.8214,161.494 L 97.0022,145.189\" style=\"fill:none;fill-rule:evenodd;stroke:#FF0000;stroke-width:2.0px;stroke-linecap:butt;stroke-linejoin:miter;stroke-opacity:1\"/>\n",
       "<path class=\"bond-0\" d=\"M 97.0022,145.189 L 147.183,128.884\" style=\"fill:none;fill-rule:evenodd;stroke:#000000;stroke-width:2.0px;stroke-linecap:butt;stroke-linejoin:miter;stroke-opacity:1\"/>\n",
       "<path class=\"bond-1\" d=\"M 150.966,140.526 L 192.453,170.668\" style=\"fill:none;fill-rule:evenodd;stroke:#000000;stroke-width:2.0px;stroke-linecap:butt;stroke-linejoin:miter;stroke-opacity:1\"/>\n",
       "<path class=\"bond-1\" d=\"M 192.453,170.668 L 233.94,200.811\" style=\"fill:none;fill-rule:evenodd;stroke:#FF0000;stroke-width:2.0px;stroke-linecap:butt;stroke-linejoin:miter;stroke-opacity:1\"/>\n",
       "<path class=\"bond-6\" d=\"M 150.966,140.526 L 188.793,24.1046\" style=\"fill:none;fill-rule:evenodd;stroke:#000000;stroke-width:2.0px;stroke-linecap:butt;stroke-linejoin:miter;stroke-opacity:1\"/>\n",
       "<path class=\"bond-2\" d=\"M 266.06,200.811 L 307.547,170.668\" style=\"fill:none;fill-rule:evenodd;stroke:#FF0000;stroke-width:2.0px;stroke-linecap:butt;stroke-linejoin:miter;stroke-opacity:1\"/>\n",
       "<path class=\"bond-2\" d=\"M 307.547,170.668 L 349.034,140.526\" style=\"fill:none;fill-rule:evenodd;stroke:#000000;stroke-width:2.0px;stroke-linecap:butt;stroke-linejoin:miter;stroke-opacity:1\"/>\n",
       "<path class=\"bond-3\" d=\"M 345.252,152.169 L 395.432,168.473\" style=\"fill:none;fill-rule:evenodd;stroke:#000000;stroke-width:2.0px;stroke-linecap:butt;stroke-linejoin:miter;stroke-opacity:1\"/>\n",
       "<path class=\"bond-3\" d=\"M 395.432,168.473 L 445.613,184.778\" style=\"fill:none;fill-rule:evenodd;stroke:#FF0000;stroke-width:2.0px;stroke-linecap:butt;stroke-linejoin:miter;stroke-opacity:1\"/>\n",
       "<path class=\"bond-3\" d=\"M 352.817,128.884 L 402.998,145.189\" style=\"fill:none;fill-rule:evenodd;stroke:#000000;stroke-width:2.0px;stroke-linecap:butt;stroke-linejoin:miter;stroke-opacity:1\"/>\n",
       "<path class=\"bond-3\" d=\"M 402.998,145.189 L 453.179,161.494\" style=\"fill:none;fill-rule:evenodd;stroke:#FF0000;stroke-width:2.0px;stroke-linecap:butt;stroke-linejoin:miter;stroke-opacity:1\"/>\n",
       "<path class=\"bond-4\" d=\"M 349.034,140.526 L 311.207,24.1046\" style=\"fill:none;fill-rule:evenodd;stroke:#000000;stroke-width:2.0px;stroke-linecap:butt;stroke-linejoin:miter;stroke-opacity:1\"/>\n",
       "<path class=\"bond-5\" d=\"M 311.207,24.1046 L 188.793,24.1046\" style=\"fill:none;fill-rule:evenodd;stroke:#000000;stroke-width:2.0px;stroke-linecap:butt;stroke-linejoin:miter;stroke-opacity:1\"/>\n",
       "<path class=\"bond-5\" d=\"M 292.845,48.5872 L 207.155,48.5872\" style=\"fill:none;fill-rule:evenodd;stroke:#000000;stroke-width:2.0px;stroke-linecap:butt;stroke-linejoin:miter;stroke-opacity:1\"/>\n",
       "<path class=\"atom-0\" d=\"M 21.5439 178.434 Q 21.5439 171.634, 24.9039 167.834 Q 28.2639 164.034, 34.5439 164.034 Q 40.8239 164.034, 44.1839 167.834 Q 47.5439 171.634, 47.5439 178.434 Q 47.5439 185.314, 44.1439 189.234 Q 40.7439 193.114, 34.5439 193.114 Q 28.3039 193.114, 24.9039 189.234 Q 21.5439 185.354, 21.5439 178.434 M 34.5439 189.914 Q 38.8639 189.914, 41.1839 187.034 Q 43.5439 184.114, 43.5439 178.434 Q 43.5439 172.874, 41.1839 170.074 Q 38.8639 167.234, 34.5439 167.234 Q 30.2239 167.234, 27.8639 170.034 Q 25.5439 172.834, 25.5439 178.434 Q 25.5439 184.154, 27.8639 187.034 Q 30.2239 189.914, 34.5439 189.914 \" fill=\"#FF0000\"/>\n",
       "<path class=\"atom-2\" d=\"M 237 212.559 Q 237 205.759, 240.36 201.959 Q 243.72 198.159, 250 198.159 Q 256.28 198.159, 259.64 201.959 Q 263 205.759, 263 212.559 Q 263 219.439, 259.6 223.359 Q 256.2 227.239, 250 227.239 Q 243.76 227.239, 240.36 223.359 Q 237 219.479, 237 212.559 M 250 224.039 Q 254.32 224.039, 256.64 221.159 Q 259 218.239, 259 212.559 Q 259 206.999, 256.64 204.199 Q 254.32 201.359, 250 201.359 Q 245.68 201.359, 243.32 204.159 Q 241 206.959, 241 212.559 Q 241 218.279, 243.32 221.159 Q 245.68 224.039, 250 224.039 \" fill=\"#FF0000\"/>\n",
       "<path class=\"atom-4\" d=\"M 452.456 178.434 Q 452.456 171.634, 455.816 167.834 Q 459.176 164.034, 465.456 164.034 Q 471.736 164.034, 475.096 167.834 Q 478.456 171.634, 478.456 178.434 Q 478.456 185.314, 475.056 189.234 Q 471.656 193.114, 465.456 193.114 Q 459.216 193.114, 455.816 189.234 Q 452.456 185.354, 452.456 178.434 M 465.456 189.914 Q 469.776 189.914, 472.096 187.034 Q 474.456 184.114, 474.456 178.434 Q 474.456 172.874, 472.096 170.074 Q 469.776 167.234, 465.456 167.234 Q 461.136 167.234, 458.776 170.034 Q 456.456 172.834, 456.456 178.434 Q 456.456 184.154, 458.776 187.034 Q 461.136 189.914, 465.456 189.914 \" fill=\"#FF0000\"/>\n",
       "</svg>"
      ],
      "text/plain": [
       "<IPython.core.display.SVG object>"
      ]
     },
     "metadata": {},
     "output_type": "display_data"
    },
    {
     "data": {
      "image/svg+xml": [
       "<svg baseProfile=\"full\" height=\"250px\" version=\"1.1\" viewBox=\"0 0 500 250\" width=\"500px\" xml:space=\"preserve\" xmlns=\"http://www.w3.org/2000/svg\" xmlns:rdkit=\"http://www.rdkit.org/xml\" xmlns:xlink=\"http://www.w3.org/1999/xlink\">\n",
       "<!-- END OF HEADER -->\n",
       "<rect height=\"250\" style=\"opacity:1.0;fill:#FFFFFF;stroke:none\" width=\"500\" x=\"0\" y=\"0\"> </rect>\n",
       "<path d=\"M 81.0982,11.3636 L 146.706,125\" style=\"fill:none;fill-rule:evenodd;stroke:#7FC97F;stroke-width:28.0px;stroke-linecap:butt;stroke-linejoin:miter;stroke-opacity:1\"/>\n",
       "<path d=\"M 146.706,125 L 81.0982,238.636\" style=\"fill:none;fill-rule:evenodd;stroke:#666666;stroke-width:28.0px;stroke-linecap:butt;stroke-linejoin:miter;stroke-opacity:1\"/>\n",
       "<path d=\"M 146.706,125 L 277.922,125\" style=\"fill:none;fill-rule:evenodd;stroke:#7FC97F;stroke-width:28.0px;stroke-linecap:butt;stroke-linejoin:miter;stroke-opacity:1\"/>\n",
       "<path d=\"M 277.922,125 L 409.138,125\" style=\"fill:none;fill-rule:evenodd;stroke:#666666;stroke-width:28.0px;stroke-linecap:butt;stroke-linejoin:miter;stroke-opacity:1\"/>\n",
       "<path class=\"bond-0\" d=\"M 81.0982,11.3636 L 146.706,125\" style=\"fill:none;fill-rule:evenodd;stroke:#000000;stroke-width:2.0px;stroke-linecap:butt;stroke-linejoin:miter;stroke-opacity:1\"/>\n",
       "<path class=\"bond-1\" d=\"M 146.706,125 L 81.0982,238.636\" style=\"fill:none;fill-rule:evenodd;stroke:#000000;stroke-width:2.0px;stroke-linecap:butt;stroke-linejoin:miter;stroke-opacity:1\"/>\n",
       "<path class=\"bond-2\" d=\"M 146.706,125 L 277.922,125\" style=\"fill:none;fill-rule:evenodd;stroke:#000000;stroke-width:2.0px;stroke-linecap:butt;stroke-linejoin:miter;stroke-opacity:1\"/>\n",
       "<path class=\"bond-3\" d=\"M 277.922,125 L 336.52,125\" style=\"fill:none;fill-rule:evenodd;stroke:#000000;stroke-width:2.0px;stroke-linecap:butt;stroke-linejoin:miter;stroke-opacity:1\"/>\n",
       "<path class=\"bond-3\" d=\"M 336.52,125 L 395.118,125\" style=\"fill:none;fill-rule:evenodd;stroke:#0000FF;stroke-width:2.0px;stroke-linecap:butt;stroke-linejoin:miter;stroke-opacity:1\"/>\n",
       "<path class=\"bond-3\" d=\"M 295.502,151.243 L 345.31,151.243\" style=\"fill:none;fill-rule:evenodd;stroke:#000000;stroke-width:2.0px;stroke-linecap:butt;stroke-linejoin:miter;stroke-opacity:1\"/>\n",
       "<path class=\"bond-3\" d=\"M 345.31,151.243 L 395.118,151.243\" style=\"fill:none;fill-rule:evenodd;stroke:#0000FF;stroke-width:2.0px;stroke-linecap:butt;stroke-linejoin:miter;stroke-opacity:1\"/>\n",
       "<path class=\"bond-3\" d=\"M 295.502,98.7568 L 345.31,98.7568\" style=\"fill:none;fill-rule:evenodd;stroke:#000000;stroke-width:2.0px;stroke-linecap:butt;stroke-linejoin:miter;stroke-opacity:1\"/>\n",
       "<path class=\"bond-3\" d=\"M 345.31,98.7568 L 395.118,98.7568\" style=\"fill:none;fill-rule:evenodd;stroke:#0000FF;stroke-width:2.0px;stroke-linecap:butt;stroke-linejoin:miter;stroke-opacity:1\"/>\n",
       "<path class=\"atom-4\" d=\"M 402.878 110.84 L 412.158 125.84 Q 413.078 127.32, 414.558 130 Q 416.038 132.68, 416.118 132.84 L 416.118 110.84 L 419.878 110.84 L 419.878 139.16 L 415.998 139.16 L 406.038 122.76 Q 404.878 120.84, 403.638 118.64 Q 402.438 116.44, 402.078 115.76 L 402.078 139.16 L 398.398 139.16 L 398.398 110.84 L 402.878 110.84 \" fill=\"#0000FF\"/>\n",
       "</svg>"
      ],
      "text/plain": [
       "<IPython.core.display.SVG object>"
      ]
     },
     "metadata": {},
     "output_type": "display_data"
    },
    {
     "data": {
      "image/svg+xml": [
       "<svg baseProfile=\"full\" height=\"250px\" version=\"1.1\" viewBox=\"0 0 500 250\" width=\"500px\" xml:space=\"preserve\" xmlns=\"http://www.w3.org/2000/svg\" xmlns:rdkit=\"http://www.rdkit.org/xml\" xmlns:xlink=\"http://www.w3.org/1999/xlink\">\n",
       "<!-- END OF HEADER -->\n",
       "<rect height=\"250\" style=\"opacity:1.0;fill:#FFFFFF;stroke:none\" width=\"500\" x=\"0\" y=\"0\"> </rect>\n",
       "<path d=\"M 381.216,125 L 315.608,238.636\" style=\"fill:none;fill-rule:evenodd;stroke:#7FC97F;stroke-width:28.0px;stroke-linecap:butt;stroke-linejoin:miter;stroke-opacity:1\"/>\n",
       "<path d=\"M 381.216,125 L 315.608,11.3636\" style=\"fill:none;fill-rule:evenodd;stroke:#7FC97F;stroke-width:28.0px;stroke-linecap:butt;stroke-linejoin:miter;stroke-opacity:1\"/>\n",
       "<path d=\"M 315.608,238.636 L 184.392,238.636\" style=\"fill:none;fill-rule:evenodd;stroke:#7FC97F;stroke-width:28.0px;stroke-linecap:butt;stroke-linejoin:miter;stroke-opacity:1\"/>\n",
       "<path d=\"M 184.392,238.636 L 118.784,125\" style=\"fill:none;fill-rule:evenodd;stroke:#7FC97F;stroke-width:28.0px;stroke-linecap:butt;stroke-linejoin:miter;stroke-opacity:1\"/>\n",
       "<path d=\"M 118.784,125 L 184.392,11.3636\" style=\"fill:none;fill-rule:evenodd;stroke:#7FC97F;stroke-width:28.0px;stroke-linecap:butt;stroke-linejoin:miter;stroke-opacity:1\"/>\n",
       "<path d=\"M 184.392,11.3636 L 315.608,11.3636\" style=\"fill:none;fill-rule:evenodd;stroke:#7FC97F;stroke-width:28.0px;stroke-linecap:butt;stroke-linejoin:miter;stroke-opacity:1\"/>\n",
       "<path class=\"bond-0\" d=\"M 381.216,125 L 315.608,238.636\" style=\"fill:none;fill-rule:evenodd;stroke:#000000;stroke-width:2.0px;stroke-linecap:butt;stroke-linejoin:miter;stroke-opacity:1\"/>\n",
       "<path class=\"bond-0\" d=\"M 348.647,128.924 L 302.722,208.469\" style=\"fill:none;fill-rule:evenodd;stroke:#000000;stroke-width:2.0px;stroke-linecap:butt;stroke-linejoin:miter;stroke-opacity:1\"/>\n",
       "<path class=\"bond-5\" d=\"M 381.216,125 L 315.608,11.3636\" style=\"fill:none;fill-rule:evenodd;stroke:#000000;stroke-width:2.0px;stroke-linecap:butt;stroke-linejoin:miter;stroke-opacity:1\"/>\n",
       "<path class=\"bond-1\" d=\"M 315.608,238.636 L 184.392,238.636\" style=\"fill:none;fill-rule:evenodd;stroke:#000000;stroke-width:2.0px;stroke-linecap:butt;stroke-linejoin:miter;stroke-opacity:1\"/>\n",
       "<path class=\"bond-2\" d=\"M 184.392,238.636 L 118.784,125\" style=\"fill:none;fill-rule:evenodd;stroke:#000000;stroke-width:2.0px;stroke-linecap:butt;stroke-linejoin:miter;stroke-opacity:1\"/>\n",
       "<path class=\"bond-2\" d=\"M 197.278,208.469 L 151.353,128.924\" style=\"fill:none;fill-rule:evenodd;stroke:#000000;stroke-width:2.0px;stroke-linecap:butt;stroke-linejoin:miter;stroke-opacity:1\"/>\n",
       "<path class=\"bond-3\" d=\"M 118.784,125 L 184.392,11.3636\" style=\"fill:none;fill-rule:evenodd;stroke:#000000;stroke-width:2.0px;stroke-linecap:butt;stroke-linejoin:miter;stroke-opacity:1\"/>\n",
       "<path class=\"bond-4\" d=\"M 184.392,11.3636 L 315.608,11.3636\" style=\"fill:none;fill-rule:evenodd;stroke:#000000;stroke-width:2.0px;stroke-linecap:butt;stroke-linejoin:miter;stroke-opacity:1\"/>\n",
       "<path class=\"bond-4\" d=\"M 204.074,37.6068 L 295.926,37.6068\" style=\"fill:none;fill-rule:evenodd;stroke:#000000;stroke-width:2.0px;stroke-linecap:butt;stroke-linejoin:miter;stroke-opacity:1\"/>\n",
       "</svg>"
      ],
      "text/plain": [
       "<IPython.core.display.SVG object>"
      ]
     },
     "metadata": {},
     "output_type": "display_data"
    },
    {
     "data": {
      "image/svg+xml": [
       "<svg baseProfile=\"full\" height=\"250px\" version=\"1.1\" viewBox=\"0 0 500 250\" width=\"500px\" xml:space=\"preserve\" xmlns=\"http://www.w3.org/2000/svg\" xmlns:rdkit=\"http://www.rdkit.org/xml\" xmlns:xlink=\"http://www.w3.org/1999/xlink\">\n",
       "<!-- END OF HEADER -->\n",
       "<rect height=\"250\" style=\"opacity:1.0;fill:#FFFFFF;stroke:none\" width=\"500\" x=\"0\" y=\"0\"> </rect>\n",
       "<path d=\"M 35.4875,89.906 L 116.211,177.362\" style=\"fill:none;fill-rule:evenodd;stroke:#7FC97F;stroke-width:25.4px;stroke-linecap:butt;stroke-linejoin:miter;stroke-opacity:1\"/>\n",
       "<path d=\"M 116.211,177.362 L 232.311,151.181\" style=\"fill:none;fill-rule:evenodd;stroke:#7FC97F;stroke-width:25.4px;stroke-linecap:butt;stroke-linejoin:miter;stroke-opacity:1\"/>\n",
       "<path d=\"M 232.311,151.181 L 267.689,37.5444\" style=\"fill:none;fill-rule:evenodd;stroke:#666666;stroke-width:25.4px;stroke-linecap:butt;stroke-linejoin:miter;stroke-opacity:1\"/>\n",
       "<path d=\"M 232.311,151.181 L 313.035,238.636\" style=\"fill:none;fill-rule:evenodd;stroke:#7FC97F;stroke-width:25.4px;stroke-linecap:butt;stroke-linejoin:miter;stroke-opacity:1\"/>\n",
       "<path d=\"M 267.689,37.5444 L 383.789,11.3636\" style=\"fill:none;fill-rule:evenodd;stroke:#7FC97F;stroke-width:25.4px;stroke-linecap:butt;stroke-linejoin:miter;stroke-opacity:1\"/>\n",
       "<path d=\"M 383.789,11.3636 L 464.512,98.8192\" style=\"fill:none;fill-rule:evenodd;stroke:#7FC97F;stroke-width:25.4px;stroke-linecap:butt;stroke-linejoin:miter;stroke-opacity:1\"/>\n",
       "<path d=\"M 464.512,98.8192 L 429.135,212.456\" style=\"fill:none;fill-rule:evenodd;stroke:#7FC97F;stroke-width:25.4px;stroke-linecap:butt;stroke-linejoin:miter;stroke-opacity:1\"/>\n",
       "<path d=\"M 429.135,212.456 L 313.035,238.636\" style=\"fill:none;fill-rule:evenodd;stroke:#7FC97F;stroke-width:25.4px;stroke-linecap:butt;stroke-linejoin:miter;stroke-opacity:1\"/>\n",
       "<path class=\"bond-0\" d=\"M 35.4875,89.906 L 67.8672,124.986\" style=\"fill:none;fill-rule:evenodd;stroke:#000000;stroke-width:2.0px;stroke-linecap:butt;stroke-linejoin:miter;stroke-opacity:1\"/>\n",
       "<path class=\"bond-0\" d=\"M 67.8672,124.986 L 100.247,160.066\" style=\"fill:none;fill-rule:evenodd;stroke:#FF0000;stroke-width:2.0px;stroke-linecap:butt;stroke-linejoin:miter;stroke-opacity:1\"/>\n",
       "<path class=\"bond-1\" d=\"M 132.186,173.759 L 182.249,162.47\" style=\"fill:none;fill-rule:evenodd;stroke:#FF0000;stroke-width:2.0px;stroke-linecap:butt;stroke-linejoin:miter;stroke-opacity:1\"/>\n",
       "<path class=\"bond-1\" d=\"M 182.249,162.47 L 232.311,151.181\" style=\"fill:none;fill-rule:evenodd;stroke:#000000;stroke-width:2.0px;stroke-linecap:butt;stroke-linejoin:miter;stroke-opacity:1\"/>\n",
       "<path class=\"bond-2\" d=\"M 232.311,151.181 L 267.689,37.5444\" style=\"fill:none;fill-rule:evenodd;stroke:#000000;stroke-width:2.0px;stroke-linecap:butt;stroke-linejoin:miter;stroke-opacity:1\"/>\n",
       "<path class=\"bond-2\" d=\"M 260.345,141.211 L 285.109,61.6653\" style=\"fill:none;fill-rule:evenodd;stroke:#000000;stroke-width:2.0px;stroke-linecap:butt;stroke-linejoin:miter;stroke-opacity:1\"/>\n",
       "<path class=\"bond-7\" d=\"M 232.311,151.181 L 313.035,238.636\" style=\"fill:none;fill-rule:evenodd;stroke:#000000;stroke-width:2.0px;stroke-linecap:butt;stroke-linejoin:miter;stroke-opacity:1\"/>\n",
       "<path class=\"bond-3\" d=\"M 267.689,37.5444 L 383.789,11.3636\" style=\"fill:none;fill-rule:evenodd;stroke:#000000;stroke-width:2.0px;stroke-linecap:butt;stroke-linejoin:miter;stroke-opacity:1\"/>\n",
       "<path class=\"bond-4\" d=\"M 383.789,11.3636 L 464.512,98.8192\" style=\"fill:none;fill-rule:evenodd;stroke:#000000;stroke-width:2.0px;stroke-linecap:butt;stroke-linejoin:miter;stroke-opacity:1\"/>\n",
       "<path class=\"bond-4\" d=\"M 378.406,40.6267 L 434.913,101.846\" style=\"fill:none;fill-rule:evenodd;stroke:#000000;stroke-width:2.0px;stroke-linecap:butt;stroke-linejoin:miter;stroke-opacity:1\"/>\n",
       "<path class=\"bond-5\" d=\"M 464.512,98.8192 L 429.135,212.456\" style=\"fill:none;fill-rule:evenodd;stroke:#000000;stroke-width:2.0px;stroke-linecap:butt;stroke-linejoin:miter;stroke-opacity:1\"/>\n",
       "<path class=\"bond-6\" d=\"M 429.135,212.456 L 313.035,238.636\" style=\"fill:none;fill-rule:evenodd;stroke:#000000;stroke-width:2.0px;stroke-linecap:butt;stroke-linejoin:miter;stroke-opacity:1\"/>\n",
       "<path class=\"bond-6\" d=\"M 406.484,193.163 L 325.214,211.489\" style=\"fill:none;fill-rule:evenodd;stroke:#000000;stroke-width:2.0px;stroke-linecap:butt;stroke-linejoin:miter;stroke-opacity:1\"/>\n",
       "<path class=\"atom-1\" d=\"M 103.211 177.442 Q 103.211 170.642, 106.571 166.842 Q 109.931 163.042, 116.211 163.042 Q 122.491 163.042, 125.851 166.842 Q 129.211 170.642, 129.211 177.442 Q 129.211 184.322, 125.811 188.242 Q 122.411 192.122, 116.211 192.122 Q 109.971 192.122, 106.571 188.242 Q 103.211 184.362, 103.211 177.442 M 116.211 188.922 Q 120.531 188.922, 122.851 186.042 Q 125.211 183.122, 125.211 177.442 Q 125.211 171.882, 122.851 169.082 Q 120.531 166.242, 116.211 166.242 Q 111.891 166.242, 109.531 169.042 Q 107.211 171.842, 107.211 177.442 Q 107.211 183.162, 109.531 186.042 Q 111.891 188.922, 116.211 188.922 \" fill=\"#FF0000\"/>\n",
       "</svg>"
      ],
      "text/plain": [
       "<IPython.core.display.SVG object>"
      ]
     },
     "metadata": {},
     "output_type": "display_data"
    }
   ],
   "source": [
    "dataset = MoleculeCSVDataset(df = data_file, \n",
    "                                 smiles_to_graph=smile_to_graph,\n",
    "                                 node_featurizer = None,\n",
    "                                 edge_featurizer = None,\n",
    "                                 smiles_column='smiles', \n",
    "                                 cache_file_path=\"./degradation_dataset.bin\")\n",
    "# step 1. you should specify index on dataste that you want to draw.                 \n",
    "draw_list =  list(range(0,10))\n",
    "# step 2. load model\n",
    "myGAT = MyGAT(args)\n",
    "myGAT.load_state_dict(torch.load(args.model_file, map_location=torch.device('cpu')))\n",
    "# step 3. draw\n",
    "draw(draw_list,  dataset, myGAT, col=None)"
   ]
  },
  {
   "cell_type": "code",
   "execution_count": null,
   "metadata": {},
   "outputs": [],
   "source": []
  }
 ],
 "metadata": {
  "kernelspec": {
   "display_name": "Python 3",
   "language": "python",
   "name": "python3"
  },
  "language_info": {
   "codemirror_mode": {
    "name": "ipython",
    "version": 3
   },
   "file_extension": ".py",
   "mimetype": "text/x-python",
   "name": "python",
   "nbconvert_exporter": "python",
   "pygments_lexer": "ipython3",
   "version": "3.7.9"
  }
 },
 "nbformat": 4,
 "nbformat_minor": 4
}